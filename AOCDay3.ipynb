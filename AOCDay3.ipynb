{
  "nbformat": 4,
  "nbformat_minor": 0,
  "metadata": {
    "colab": {
      "provenance": []
    },
    "kernelspec": {
      "name": "python3",
      "display_name": "Python 3"
    },
    "language_info": {
      "name": "python"
    }
  },
  "cells": [
    {
      "cell_type": "code",
      "execution_count": 2,
      "metadata": {
        "id": "YhHp6tjSQSfT"
      },
      "outputs": [],
      "source": [
        "#Make a dictionary of all letters of the alphabet\n",
        "import string\n",
        "letters = string.ascii_letters"
      ]
    },
    {
      "cell_type": "code",
      "source": [
        "letters"
      ],
      "metadata": {
        "colab": {
          "base_uri": "https://localhost:8080/",
          "height": 35
        },
        "id": "SsN0nTlARJiA",
        "outputId": "9c1d504b-b163-4d71-efcf-4de507898d1b"
      },
      "execution_count": 3,
      "outputs": [
        {
          "output_type": "execute_result",
          "data": {
            "text/plain": [
              "'abcdefghijklmnopqrstuvwxyzABCDEFGHIJKLMNOPQRSTUVWXYZ'"
            ],
            "application/vnd.google.colaboratory.intrinsic+json": {
              "type": "string"
            }
          },
          "metadata": {},
          "execution_count": 3
        }
      ]
    },
    {
      "cell_type": "code",
      "source": [
        "#Create a dictionary mapping all letters to their values\n",
        "letters_dict = {letter:val for val,letter in enumerate(letters,1)}"
      ],
      "metadata": {
        "id": "n7YruXFsRWOM"
      },
      "execution_count": 10,
      "outputs": []
    },
    {
      "cell_type": "code",
      "source": [
        "letters_dict"
      ],
      "metadata": {
        "colab": {
          "base_uri": "https://localhost:8080/"
        },
        "id": "lGd68nOjRfdu",
        "outputId": "ec234348-7c3e-440c-fbca-33d3c927a00d"
      },
      "execution_count": 11,
      "outputs": [
        {
          "output_type": "execute_result",
          "data": {
            "text/plain": [
              "{'a': 1,\n",
              " 'b': 2,\n",
              " 'c': 3,\n",
              " 'd': 4,\n",
              " 'e': 5,\n",
              " 'f': 6,\n",
              " 'g': 7,\n",
              " 'h': 8,\n",
              " 'i': 9,\n",
              " 'j': 10,\n",
              " 'k': 11,\n",
              " 'l': 12,\n",
              " 'm': 13,\n",
              " 'n': 14,\n",
              " 'o': 15,\n",
              " 'p': 16,\n",
              " 'q': 17,\n",
              " 'r': 18,\n",
              " 's': 19,\n",
              " 't': 20,\n",
              " 'u': 21,\n",
              " 'v': 22,\n",
              " 'w': 23,\n",
              " 'x': 24,\n",
              " 'y': 25,\n",
              " 'z': 26,\n",
              " 'A': 27,\n",
              " 'B': 28,\n",
              " 'C': 29,\n",
              " 'D': 30,\n",
              " 'E': 31,\n",
              " 'F': 32,\n",
              " 'G': 33,\n",
              " 'H': 34,\n",
              " 'I': 35,\n",
              " 'J': 36,\n",
              " 'K': 37,\n",
              " 'L': 38,\n",
              " 'M': 39,\n",
              " 'N': 40,\n",
              " 'O': 41,\n",
              " 'P': 42,\n",
              " 'Q': 43,\n",
              " 'R': 44,\n",
              " 'S': 45,\n",
              " 'T': 46,\n",
              " 'U': 47,\n",
              " 'V': 48,\n",
              " 'W': 49,\n",
              " 'X': 50,\n",
              " 'Y': 51,\n",
              " 'Z': 52}"
            ]
          },
          "metadata": {},
          "execution_count": 11
        }
      ]
    },
    {
      "cell_type": "code",
      "source": [
        "puzzle_input = \"\"\"\n",
        "DsPhSBQQQhqmBDhPDsFwjwsLjlRjlttvjvvtRb\n",
        "rNJMNNbrHrtjHLHjvwtg\n",
        "fNbNzZdrZnMnMPnQShFPDmnqFm\n",
        "QWVCFfQffgQCVZzVVpHsHJBqtpspJFRHqq\n",
        "mwDbmnnGNlNcwNDDNRbnNDlJTpBJBtJGtPTLsBGqTqqsqp\n",
        "MlSdnScRnnmmDjSdNSdCzvggWzrgzjvfvrgVzW\n",
        "gsMljbrjlZlWcWMJrWwTwbmwQbmmLDQQLhwL\n",
        "CdgpzdgpgnfThHfFRwhfRf\n",
        "SptgpSpnCNpVSGNPvPGSddcMWjMrjqBsJcWqMcBWcVlZ\n",
        "JcJLQQFWhQJPJpWcwjHvMQvnnlMvzBHd\n",
        "tCtGZrmVRmVGTVTtCfRTCHHNNvdNzmdMvMlNzvwdvw\n",
        "CTGGRftfSGtGTGDLbFchSgSWWWcM\n",
        "QcMFQrvrQbvtczbVbjbMzZzRpqmDDmqqnNzCDCDC\n",
        "SHHfPJssGLPSdHThLhHdRmqNmNssnNmNCNnpjmsn\n",
        "LhLJfTdLJwfgPTdfGccrtjcMrccwvcrrFr\n",
        "jFLLLqDGjbtqLCChpMMhMBvpwMTmffpZ\n",
        "ZnJHRncHHgnrsrZffTdMdMBfmMvfvR\n",
        "NWWPnZrVHrZPCDDQtzDCPLCq\n",
        "jpFjvBZhDFHZdwcmslcslBLLNl\n",
        "dVtTVVCzzfrrMPNLLcnVcPLRns\n",
        "CrzWzTqdWtGCzJtbJCrMjjDFHZQjZSpvFGFgHhHp\n",
        "JjJqMctnhtDZDQtf\n",
        "TrFFlrrCCHPwHwlPHFPzDhsffQQDsVfWwVJQJB\n",
        "HHHGdFlHldTpCCFFlLHdCRJccMnqvqMgnNjjMjjvLMLcSv\n",
        "cMfFcMFcrqgJLFZdrTDdthPGsGmtGs\n",
        "WwjNwnjjBQzVVQHwRDnmtPGhPPsPnnTGld\n",
        "bWHBjWVzpbRzbmScqgZMFcqf\n",
        "RJjPTBJhTNNjfPhRBdqtlgdbGldwtCPgdb\n",
        "ZmrHHmzpvSvvpzvmvDVCGlWVwCWtGtWCddggqf\n",
        "QQpzFrHHQnzHvfTcNshcLRNFJhcR\n",
        "QrPQDrppBQmCmFQm\n",
        "TzqzsLfmsfSTfqzVLftNdJJNJGCwwGdgCwSGNC\n",
        "TVHTfzWsfftsZstnbvrbWbrbppPbrmmP\n",
        "BQrfqrLtJnttqqtQBJDDtBnDzRgldhVVpJlgzpzhpzsgslhV\n",
        "TTNcPZCvZjmPFZjvPHLlWdNLghVhzzlllpVd\n",
        "jcFPbTcZTFcmcjMjjFjbLwbnDBtfqbtBwfwSBnrbGw\n",
        "SZJNJtrNzjjNCzlBBmqmQDBBmDBBjB\n",
        "PGPbGwhLsnvwnVbGPVMZsDsTBBgcZgBBDBfDBf\n",
        "pnnhhvphGVpvRPnJlSFRNNJHZHSdSR\n",
        "hbmDDmwnnVGbhmjNrrWwLNLsWBrw\n",
        "dMrgvcQqdjlBLlfW\n",
        "HzzPSrcHqFHQgzpPcMpQqrtmbbbRhHHVGnZDnVHhVbVZ\n",
        "RwtvdPRvSlTQmHHBQBRL\n",
        "FjVSjrsFVnFQnTHmnT\n",
        "VCVVMrWWjVGgbcNVGCCVdlvfdqfvwbSzwqfwZzwv\n",
        "fmPDwJPDFRmRgPdwwwDNwgwPzhSQzVSzVTQdzHZzHhzQMQzQ\n",
        "sWtGCWtpcqqpNnQjjzhVTTVQczhj\n",
        "tWBGntsCNlqrWswDRfFrbFrPDbPf\n",
        "dmzmjcbQjjQztFNqsqBcMJqNPF\n",
        "nlTWnClWwQDTVnTrsMsCRBPZRJRJqRJq\n",
        "wTrhwpVVvgvlDpTvVWVDdLfzgbLtbzSQLSzzjzLz\n",
        "RWZdHvRdBRGbbvCjJnbn\n",
        "pqqpSwzpSSbCwPwjlwjl\n",
        "gDzzqSVzqrThpDBtRtCZdQRQLrQQ\n",
        "GRqTGqtmTVdGHHVVNNlhPlMqbNqNDbqW\n",
        "LzQSdFnfznfwBcLcnFppBBDDMPMPhDbhlwbWPlbWMjrD\n",
        "QznFnLZFvVvHRgsddG\n",
        "BBHBfBHFdSltmWJvqtNtHq\n",
        "TQDrrVMzVDnWnNZDJc\n",
        "gWzprTCrCMQzGGjjhwFwdffjfl\n",
        "LLLSSSzBBlBLsszncCBZSPSMMMpdWTdrmmnfVGVmMfmrmm\n",
        "DghttvwhHRvjJthNJwhVtDHGpddMWdMmrMmfGdppjWTfpq\n",
        "gbJRthQDDRvwtDhQhDFPcVcbPczLzPBScBBF\n",
        "sZsZpTtLCsbspZtTwrCwrwtDmNNdJmmqSJfqmfNGNmHqGdqb\n",
        "nQvjTcjQglFVlllMFMVFqWfNqnNHHHdfSfHqfSJq\n",
        "hFvvgFcFVzphpTrrwZDp\n",
        "qJqfhsBpfSpchpqcrqwCDvvCDQndmpwDtnRQ\n",
        "jWHPZWWjZsCmCWRDmQ\n",
        "PPzMGHlzMNsPLPlZsllgsNrhNVBqhFVBbBSqFFBFrV\n",
        "RnRsFFdSzmgwvQsqwc\n",
        "lbgHGMBHlWWWlfWGGBtGwqDpDwmcpMrrqrQDZrMZ\n",
        "GGJLBVJbVGjGtHVfJtWGHBLLPdzdCghnRnRnSShgNnhnddhj\n",
        "VgzLFjjwhhSwFhVZgRhRgHHCCvdZdrqqCTvBCrqvvr\n",
        "ncnNbGMcPpvHFrssdBHM\n",
        "cnctcNNbQGWFJctftgVmzShzzwwVwgmwfR\n",
        "pFWmSSFGQlvTbwWTwH\n",
        "jdBgNhRgMftNBhPbhHnZHlTTZcwZ\n",
        "lfBNRjCtCfMjsBfCjgfNBRMppGpJqsJQGrrmmJDpGmDDFG\n",
        "GznngnhzccVdgjbbVjVjVbVLwwQJmQMrLTZhJmZLQTJWmm\n",
        "pDBSslPCFPCpvCqvpPBQTlQLrdlJWrLJLmrlrr\n",
        "psSsBptpCBdjtcjNVcGG\n",
        "sssppsmchwspFLtvHhQJMtFb\n",
        "rRLDqRVLNSMvFSSV\n",
        "WDrLnzrDqzRqRzzfLgRnzrnsssZZZsZBgCwwmBppwBspZc\n",
        "MtPbwvzzVtzfsqGGVpdSjsLd\n",
        "DnNRCDJBnHJDHDnrDTRcnNZpZSsSLqjpdqqqSMqdddTj\n",
        "CFRFRFHgDRnRgMtfFvvwzwvwvzWv\n",
        "PNpFPncvvchPpNjpFhvPhPLmBwMgDRRwRgMDhBmLzBDD\n",
        "trHSrdTtslWrSWmfzgmMnfBzmn\n",
        "JsrQsJHHlsVqTjjpbbNnQNNpGG\n",
        "sVQCdsmGlnlCmnGmQQhGCJJNvNjpgqhqhvPgpgPqjpcpcW\n",
        "DMSfSbHLHbSDBBzLNvccWRcddvPjNj\n",
        "FSwHfTFdFsmJlnTTmV\n",
        "FctwtTTCScvShFqtwScrcTSCJQGNndGHWJNQHWHZdgJrJgGN\n",
        "jspLlfPlpfsDjBspfllWgdWHQggZHngHNGdsWJ\n",
        "lRMpBlPmSFRTcvZv\n",
        "TVZpRRVvFRVpTZRfFhFvvzGVwrwwwdDBMwQrgcDtMtDDwZrL\n",
        "jsNsWqWjNQCNWbjPMcBLPgBtrdMwdrdL\n",
        "SJSsmqlSNljbmlNjsbQVffzGRvzmmVhQpVGz\n",
        "BFFMvcwMwwpFFfpbDMqPVgLVgmLDPR\n",
        "JtSsSzJssQJJWjRZzgLnDgqLPZgzbg\n",
        "dsdtWQWdRGjTRNQNQvGfHCCFpvfGwlCfCp\n",
        "zzWGqWnqnwWCvCrHffHRpBpBBRSJzRFFDhSQFR\n",
        "VPVsZMNTLsMvPsmBJhllFpFBTJFQpl\n",
        "sZtsNsZtdZgjbwggjnbvqr\n",
        "QpTvrphmDvvddfcJJHTTncMlMG\n",
        "bRZZPRwjgzzlSSjGlnlSJS\n",
        "BZzBzssWgwzzwNBsgsPBgszmQptqrrGdvdWmqdhhFQDpQF\n",
        "FfMtzSqlDlzfMhPFhPtffNRsCgSgCCGspRpRGSsgsg\n",
        "WTcWLTTVnWmrVdLrcHmNGNCZwCCggpgDRwpCnR\n",
        "JcdWJHTJWdJdjJccrLvlFltFQQvPFDMjqqlP\n",
        "NfjFNNZPDQVJVWpCbQpJ\n",
        "lcmdzlmzBtRSTlTTcncsVSbhpLWpWgsWghgsVS\n",
        "mBTRRmGccRtBwDbrGPbrMMrF\n",
        "VVQqlsGrVsMWBNFNMQHF\n",
        "TfzZfDgjgnLGjjztTncCFwwNmdvNcwwNBvHNFwvd\n",
        "jzjDgZzjntGJZzCnhrrSlPVsJslpslPq\n",
        "dVhpjGPdjHhqHgtHJJ\n",
        "sFzrzllQswDwFbcmBlgvZTCgvqTCfgHQJtqT\n",
        "nDbBsFzzrrtFrlwzPdSVMWMVVMSnGNLd\n",
        "wqJCjqChmwMLmMmprNgG\n",
        "DNTtdsdWcHdNspGQggnrgLnQpc\n",
        "SZvFftdddDsDTtttTDJNCCwJJZzbbCjwwVPj\n",
        "VstwZCwslBZQDBjfDDBDfS\n",
        "rvHnmMRrTzmMrmhRppbhDfpjfbjbctjD\n",
        "rPFLRLmFvvLvHvTCtqsVVwldGZGPGV\n",
        "SNZDJGfvwgMgfgmLmLcmBqgWgQWr\n",
        "hPnPTnVGsPRqLWpTmQqQ\n",
        "tsbnFhhjhSdGJNCjSf\n",
        "QSbGgBjfTCMWFNPFFtDghPrP\n",
        "JqHqJVzZzwJJHLlqQptDhPrctpPDtnLF\n",
        "zZmwJwdwdvHddVJvZqdzHlfGBbsCmMTsWCBCjsGGBbMQ\n",
        "gVmLtpWrFTFBLtpcFNbvhNNnTnvnQRlQQv\n",
        "GHjjqsMqwZZJdqGfZjfZGjQDDhvQNzznzRzRwDNbvgzv\n",
        "sZGPgssMqHZpPptmCcpCrP\n",
        "CZCNNLmwzwCGMZQMQsFNWplvpsJBWpFHBp\n",
        "SPbSbDRRbnDqggnbVbVrbRWHJFTlBBcTvWvsPvFpHTcl\n",
        "tVgSvqVbnqDdgQzMQMGMmzthCw\n",
        "mpbPQlblbwSlfSPGBpBGPpBFgMMtLFSHMLVVDVdtHLNctF\n",
        "WnhZsrJhTnWrgZdZgHNLcLtt\n",
        "hjCsCWRhjzhTjnWnQBbmPQQPLBGfqjwQ\n",
        "BFrzdtmRmpFtFwwmjjzNQllPshqHvjNh\n",
        "fWCLLCMJnCDbgfMJhPsPHvqvqVsssQ\n",
        "WbLnCZnvprpmZrGd\n",
        "gjMzTGBjWFBCCSSrBC\n",
        "bddJJndbdJfwPPthrrSSSsFSSg\n",
        "NJHbZbbvvWGgjWgT\n",
        "dpfphMggHdQcwftMMgdtzWGfGWnDBnmvnVJVvfmn\n",
        "CqPFTZPSNCTsZZZRLzGmcGVzDLGvLWBWJm\n",
        "TCrTNSScPlplpHrQrQ\n",
        "lqrCvhWFvMGWgfHPgLfjfdgG\n",
        "zjmbjSnzRzVVRmzBRtwjVQnNLfdPgfLdfTtNLPHTNNpppf\n",
        "mbSZRzQRBnnzbQJbmjmSbmVhlslZMrclWFrrqWCWsFhchF\n",
        "mpfNshshflNthWfJCBBdmnQbQBZQdn\n",
        "VFVRccgGTqTrHTbWBFjJBCFFJCCQ\n",
        "PvTDHqHqPPGVqqhwfNlWlDhMltlh\n",
        "HmLLgWVjJwhwWLgjjhmVHLLLlSzBlBlSvBvBFGvtdStJSSvq\n",
        "TRRrPMsfQTbRRCZRnTMRZZTCcvSccqBqBBlzdFvBqFsGBcts\n",
        "bRNPbRCZMCrQNfPLdhVpLDVgDhNHWV\n",
        "sPJFDsSsVLgHjLHPbj\n",
        "vCnRQhhRQdVQZlZdbHNMlqNNjgjbpbBL\n",
        "ChhCCCWTWnnmvmGtztStzScwrcVcFW\n",
        "NRBTNDBglSSgDwCClQQSFFHdLLsFbPFFLt\n",
        "McpmWccMWHZPcLstbt\n",
        "MWnWphVMvvzJzpWJWmVphjrDDBBTRwRDDDRRCnPDnqgg\n",
        "hsnnhhLljLPTmZwvdZdZjmmz\n",
        "RQNNDpNMSZwvsmqstN\n",
        "QFMFRDVDsHSpRpHSMRHfGGGTLhCChBGhBhBFBJ\n",
        "TTbltCvClzvzCZtwtwLTtQQQgjNgmjgQRRRQSjQLjR\n",
        "HPpnZHcJsdnnfsdVHHSSqghhmqBSSqSmBfNj\n",
        "VMJJdnMPrMGVrzvCZwZWCzCt\n",
        "CcQnBBCfBvRzDlsS\n",
        "PdbPPCbhGGpDSDlDDhvDJl\n",
        "HmHWPWdbHnCwCHCr\n",
        "JHlmJcMWHQcPmlmJMmMZPfwTTRDfgdDBfRtgQgdfBw\n",
        "zVvFrqGjzWGVrqvjvNFpspvVBgNNddtTgghhRTwgdDwwwBfT\n",
        "bVFrrvsvjWGVsCsqpSHZmMPJlJnCcLcPZZ\n",
        "QrrQZFZnRtnFRTrnlFTtRZwpGGwzGszhjzbsGzzhmjjhhmhf\n",
        "SgvpDSJSgPBSDPDNgpggmsMhMmffsMmzfJmzHHMj\n",
        "WNVcCPgSSDCddSdWCpNBclCQQFRQQlnTLFLRZQnLtt\n",
        "tgvqWqzvntdlzNzzHrbPrMhHMhhrVrjPmC\n",
        "FGTGGRGTffcJRpQcJJwmjhPLhjnCQPrLPVQrMr\n",
        "SppRSDRwFnJJwwswTDdtzBzqWWzZDldNgtvl\n",
        "sjzPjLphMSrlppSp\n",
        "fbGqgwTqgVTFFcgGTTGcQvfHQZRlSrSlSmMNMBRNNNrZmm\n",
        "MVcFGTFtqjsJLjjtCd\n",
        "jVJqTRHjjtDjZnVJVVjnNdwfCFPZmPgCCgCZGCFFrrFg\n",
        "LSLBMBWsbBBCgfdrFd\n",
        "ShbbzdzQRNNNVhDN\n",
        "JwbSRqmSwRwcpmbSSVfhNBTVGGRnNNzRNh\n",
        "ZPfQPjZZrffQZszhzTnVGBvntsNz\n",
        "rLjggjQgQgFdPQjLFQZgwLMbWccLSwWHqHfSqpwc\n",
        "cBhzNpztzHNrpHSHQrhZjZqdJRRgPqjhjqqP\n",
        "bQwsMTswwVjdZMVRJM\n",
        "vGWCTDCTQvvtlvQQ\n",
        "mHVmTTsmzRmRHffmmfMGBzSPMhSWWdDWDSGB\n",
        "VNcnNbtqqJbcbvgvWhShDBDPhjgPhSjB\n",
        "FrrbCnqJcbCJcFFbnqJlppCTfQmfmZQTLVswRLZp\n",
        "rWWppSStfRBLfHPdHHDzlldZ\n",
        "QrTnQmmVCqvrvJvzJZPHvzHsDs\n",
        "qgMMmrTTCcnQQmCNQNQmgTpwRWRtwtpcBWwjSRSSpttW\n",
        "SzWQwwqVbQzwGSfVwffVwbqhFGFFMgGLGMlNMcnNgcvlMg\n",
        "ddZHHsrCdBssDsHmChFLNNnMvmNnnnFncL\n",
        "rpJJdHZJdZHQSRJbSfVhww\n",
        "jLtFhNwNNvHnjFVvQLQLHhfbGDMPfffpllpttZMPPZZb\n",
        "VmrqszVmgCWWggbPGclPlZbcZCbf\n",
        "JdrTmVTVsqsRJHvQnnhwhBLH\n",
        "vpdBvsvdVvSPhvQFCgrRmhjqqRgWcWWgmf\n",
        "tJDGbZHbjRHNrrBj\n",
        "DnMnzGJJwtzVSzzBzTBSTF\n",
        "hZMDbQhMhlMDJrDrPMJRRqGJSvFvSwFSVdvGvwSFqq\n",
        "HjjzcRTnpGVSGGFWHH\n",
        "pssmjctLzpsRRnhlQbPfPrgDbZls\n",
        "FJMhPhnTMGmBFdnmlrfqfCcwlwCwCv\n",
        "pjHLsLbjjRHsHsjDjVsgDRjzCnfCfzqrqvwgflcvcvvgqz\n",
        "njtpHZnLLQGhTtTWSSSh\n",
        "NMddMTDrrjNnrnMWMrlnPwNwftBtGvptGjBHgBgpfCCSfgvf\n",
        "mqRqLFZRVFbtgBSCbGWWHp\n",
        "LZZRmQhVLLFzZdTQPndPNTTnQW\n",
        "CprQrcpqhHhpppchpphdcdpLMRMGsVGGsMsLbZbtbfMRmtbG\n",
        "DzlgTjwPTlSSSCDSlggNmMRtbsstsMfbwtVssMmt\n",
        "TNCNSBNJJTNPJjCTBDzjlJrvvcQrrhphWBqHhHdqrnrr\n",
        "ScbcbglMPRSmvclTlzMTdhVHhhjfdsdhrVDzfjrD\n",
        "LJGtpQwpQBBCttJLGqtqGHhPfDdHwjjhrVrhdrdshr\n",
        "WCpZQCGqtqQWtQWplZPcvMmgmvPccbvT\n",
        "tGWqthqGVdzBWwdd\n",
        "BZvZHFFHZrHZvZNRRHHZNHrMMTzRMTdTzbgDVMVssTDTwg\n",
        "JnNmrHHNrCGBPPnGGc\n",
        "wvFvZBmppBdSLcvshcLrgl\n",
        "bTQqJJHJzJjDQjQtzRVJztDHslgNNVLcgSrsSsWrSslWgrgL\n",
        "TqHHjQnbHTbbmZBBcFMpmBwn\n",
        "ZFCqSlCPdCRTLWWTQQLLQS\n",
        "GjggHcvsggHVTVBLnlcpBQ\n",
        "hvGhlrtjmjrHHhjsMPFNPdtqMPqqRfCf\n",
        "cgRwVfVzrgqqwZctTztFMFMTCdPmmF\n",
        "bWJsSJHpTDRDTWMC\n",
        "sHHNbshnlJhJjBsjsbnBHbZcqrZZQwqvvZcrwwvRcZnr\n",
        "ttgVBtMbttngmHJVpzlzZlppzw\n",
        "cPcsRPmPPQfGcccRQSSZzzvzlflzZHvJppzJzT\n",
        "sQPSCPPWccWWWqsQqRCQFNRMmnbnjjNbgDdBjhBrdbdDbd\n",
        "gSsZDSgdQZgWSgddwLDLLfCDBqvlhBlClqtqjhvBhB\n",
        "RMcsVMcsbVsrPrmJcPHHVvfjjCnvvfCqhlqvqqqq\n",
        "NFMRRpHPgzszGppG\n",
        "WmmZZNJCgCBZCzPvmBCmjWjjqFtFqjFjbVwqwjtt\n",
        "ppDMpdMfSfSSNtlwqbqwwq\n",
        "dTGDhdnfLMLhfDDpQvZNZgmrmrQJgrLQ\n",
        "jrqRqfNNhrVvcTVdpTscpd\n",
        "tGWBlLggWGddTspZZd\n",
        "JJzWtQgQsDbBgDWsgbFrPrRJNMJMPqMNfHjH\n",
        "GdvVbbWsWdvWGDvWZcbFBTBZCzCjwzrhPBJjzF\n",
        "nQPfSHnglfpnMSngnMgJTprJCCwwrwCwpTpCFj\n",
        "SQQHSttRqggmlVsNcvWdRvbWPN\n",
        "WLNLCWLsSJgHFrSHrM\n",
        "gDbzRTcmbzPPgPPdtBctfHfrMMQfGFJrhQnMfGJR\n",
        "dmmzzqZdDqqTLLwjgZgNljws\n",
        "TCqsDHssmDsDGVGlVcMccGDV\n",
        "FLntWWnnFzFgzzbtbznLBtlfjGZmcfFGVNFGlVZcMNlN\n",
        "PpbLLmpgbRzqpCHwChQqwh\n",
        "lVBPVgflgBVVrVTTwgwBPmgflDQjnnGvqjGDDFjGlGnvqHHJ\n",
        "ScCLzdCZdbLSbFdFqvDDdGMQGQ\n",
        "bchNCLRWSbzCbNRzbWRmsrhQwVVwBhmQpPwpgV\n",
        "GmfHCCPqWqHLWLCfRJpbrrbQphwZbZ\n",
        "STVDQzNnzMzNdstMDzzNtZwFhrlwVJJrJlFFJRFwFR\n",
        "DzSvzstnszMnjQcqggjPqQBcqq\n",
        "BzNwLTqwTjrBrljWpBlrQpBpsCGGCtpssCMttDtHsttMDCHp\n",
        "mnrJVmRhhvJVcHtsGHMCnZCPZM\n",
        "bvSmVbRhbgmmSJflzNLrzqzfWfqBWr\n",
        "qsZLqqFNhfrGnJFv\n",
        "DVjVmWlcjVjdDTDlbbTDTzmrCnMmJGnHnmCHfJGfvnfM\n",
        "lVRdDglTlTgVlVjbWWVzVjvNZqSBsLZNtqRsLBqLqQtL\n",
        "ffRRfLVHZHfJHVJcMrMZZwwTzGBBzBTBjGTwrwdSCj\n",
        "qmWbWQbqnbvWhbQPGnGNnpvwSzltpBldtSdzllptCSjTTt\n",
        "vWsbnbWnNvQQQQvsRRLfJRRVGfDcfV\n",
        "PpqrvswPvvvPsNqmDLDttCCcHHZVrCtW\n",
        "hgSddBhghQMdbhbwhgSdQgCCctZcDtLntLttCVLtSLCc\n",
        "dGzdQMFzQMdgGGlGJMzBgBwRqNNfmmTsvfRfJTpwjmpP\n",
        "pcphpdrWDmTgHWMtRWqHRVVH\n",
        "SbGcGGQnvNQGvsjBtVHBLjvqVPVB\n",
        "lzbQCzbZllSzQslpCJpJJDggcggfDT\n",
        "ffrTlhrVrfCsDVTsWzGBBZcBRBqRBWtGtZcq\n",
        "QNFmFHrHNSSmSLJdJrNGZLbGjbcBjBGjqcbgjc\n",
        "ddQvPnHddnQJHSHSFPdnFfDDTfDMMCrwMlPTwDCsrC\n",
        "NBnrNHQHBscvhfBM\n",
        "bbGtgWWWqZFmnZGZbmVCdMzvvShfzfGcdcfMSS\n",
        "WqbjnmbnjWgmFFgtWVbWZwNTNLjNprNwQLDwrTrHQr\n",
        "lwwlcjlzQRBcBccbdLCVnNVWJJzfLndd\n",
        "pZDMtZpSDMZpMZMsPtHVNJVfRCRddVndnJLSJd\n",
        "mDTZvTqtDDHttRPcqhQlwgGlghbqBh\n",
        "DTspTqssqTbdmCMwVmnmlfCD\n",
        "PLPWjjrSjvPzqZvjvRqjLtPwnnHCmWVcncMnnwmncHcHll\n",
        "RFztFjjqjQFQTbdTbQ\n",
        "hTFSVSdhMMVMFjjgbthcbzczcg\n",
        "DvwCJVJWWJDRnfmbDmccfmmgfb\n",
        "QrJvPGWWnpVMqdZsZpqM\n",
        "gRLcHbgnfpgpJjlqqp\n",
        "SFwrTHFBqlZtBPZq\n",
        "HTzDwmSvCvCmsmmvTSwvFwcfRRNRLcQRWNssNNbRWLWL\n",
        "PpMgDMDnsWSnjBQnrjbn\n",
        "LFcVVGChCFdhdVFZVpVCdVbvQbRrbvBBbBjQSJZrrJrR\n",
        "FNwGNCCFHcVTHcFdHHHTDzMzfsgzwpPWMmPflmtt\n",
        "\"\"\""
      ],
      "metadata": {
        "id": "aJLoISEmRgOz"
      },
      "execution_count": 12,
      "outputs": []
    },
    {
      "cell_type": "code",
      "source": [
        "#Split the puzzle input so that each element of the list represents a row/rucksack\n",
        "splitted_input = puzzle_input.split(\"\\n\")"
      ],
      "metadata": {
        "id": "SVKOOGSVSAy4"
      },
      "execution_count": 14,
      "outputs": []
    },
    {
      "cell_type": "code",
      "source": [
        "splitted_input.count(\"\")"
      ],
      "metadata": {
        "colab": {
          "base_uri": "https://localhost:8080/"
        },
        "id": "v0SWVB-cSGmi",
        "outputId": "c53edd58-17e8-435d-e338-dcad2fc2d5dc"
      },
      "execution_count": 16,
      "outputs": [
        {
          "output_type": "execute_result",
          "data": {
            "text/plain": [
              "2"
            ]
          },
          "metadata": {},
          "execution_count": 16
        }
      ]
    },
    {
      "cell_type": "code",
      "source": [
        "#Annoying empty strings will mess up our code -> Remove them!\n",
        "splitted_input = [i for i in splitted_input if i != \"\"]"
      ],
      "metadata": {
        "id": "1aw66hTYSK1V"
      },
      "execution_count": 18,
      "outputs": []
    },
    {
      "cell_type": "code",
      "source": [
        "#No more annoying \"\"s!\n",
        "splitted_input.count(\"\")"
      ],
      "metadata": {
        "colab": {
          "base_uri": "https://localhost:8080/"
        },
        "id": "nD1mUWmtSRdE",
        "outputId": "d3bb434c-b91b-450b-ff33-79721da83397"
      },
      "execution_count": 19,
      "outputs": [
        {
          "output_type": "execute_result",
          "data": {
            "text/plain": [
              "0"
            ]
          },
          "metadata": {},
          "execution_count": 19
        }
      ]
    },
    {
      "cell_type": "code",
      "source": [
        "len(splitted_input)"
      ],
      "metadata": {
        "colab": {
          "base_uri": "https://localhost:8080/"
        },
        "id": "4rx5FazISf2Y",
        "outputId": "a09b5767-f391-45c9-a40d-208551c8c1c5"
      },
      "execution_count": 20,
      "outputs": [
        {
          "output_type": "execute_result",
          "data": {
            "text/plain": [
              "300"
            ]
          },
          "metadata": {},
          "execution_count": 20
        }
      ]
    },
    {
      "cell_type": "code",
      "source": [
        "#Check that all the strings in the list are of an even length\n",
        "len(list(filter(lambda x: len(x) % 2 == 0,splitted_input)))"
      ],
      "metadata": {
        "colab": {
          "base_uri": "https://localhost:8080/"
        },
        "id": "SHEQtC2tSuDH",
        "outputId": "d32f55ed-a6c8-4724-8768-d6091e80cc61"
      },
      "execution_count": 25,
      "outputs": [
        {
          "output_type": "execute_result",
          "data": {
            "text/plain": [
              "300"
            ]
          },
          "metadata": {},
          "execution_count": 25
        }
      ]
    },
    {
      "cell_type": "code",
      "source": [
        "def split_into_two(string):\n",
        "  \"\"\"\n",
        "  Function that splits a string into two\n",
        "  \"\"\"\n",
        "  return (string[:int(len(string)/2)],string[int(len(string)/2):])"
      ],
      "metadata": {
        "id": "QyDKqnUsTE8P"
      },
      "execution_count": 38,
      "outputs": []
    },
    {
      "cell_type": "code",
      "source": [
        "{1,2,3}.intersection({5})"
      ],
      "metadata": {
        "colab": {
          "base_uri": "https://localhost:8080/"
        },
        "id": "To2pPjKjUlJ0",
        "outputId": "586e2fd6-5280-4623-ddf7-56ece864034e"
      },
      "execution_count": 39,
      "outputs": [
        {
          "output_type": "execute_result",
          "data": {
            "text/plain": [
              "set()"
            ]
          },
          "metadata": {},
          "execution_count": 39
        }
      ]
    },
    {
      "cell_type": "code",
      "source": [
        "def determine_common_elements(string1,string2):\n",
        "  \"\"\"\n",
        "  Function that determines the item that is in both the first part of the string and the second part of the string\n",
        "  \"\"\"\n",
        "  #Create a set to represent unique elements in both strings\n",
        "  s_1 = set(string1)\n",
        "  s_2 = set(string2)\n",
        "  intersection_set = s_1.intersection(s_2)\n",
        "  if intersection_set == set():\n",
        "    #Set is empty\n",
        "    raise ValueError(\"No common elements found between the two halves! Check your function again.\")\n",
        "  else:\n",
        "    #Set is not empty -> Get only shared item\n",
        "    shared_item = next(iter(intersection_set))\n",
        "    #Return the shared item and its priority value\n",
        "    return (shared_item,letters_dict[shared_item])\n",
        "\n"
      ],
      "metadata": {
        "id": "gWPtjROyT1w1"
      },
      "execution_count": 40,
      "outputs": []
    },
    {
      "cell_type": "code",
      "source": [
        "split_into_two(\"HTzDwmSvCvCmsmmvTSwvFwcfRRNRLcQRWNssNNbRWLWL\")"
      ],
      "metadata": {
        "colab": {
          "base_uri": "https://localhost:8080/"
        },
        "id": "FamvH9OdVU7p",
        "outputId": "6644eebb-221a-46ad-89c2-99ab2f762cd2"
      },
      "execution_count": 41,
      "outputs": [
        {
          "output_type": "execute_result",
          "data": {
            "text/plain": [
              "('HTzDwmSvCvCmsmmvTSwvFw', 'cfRRNRLcQRWNssNNbRWLWL')"
            ]
          },
          "metadata": {},
          "execution_count": 41
        }
      ]
    },
    {
      "cell_type": "code",
      "source": [
        "#Check that our code works\n",
        "determine_common_elements('HTzDwmSvCvCmsmmvTSwvFw','HTzDwmSvCvCmsmmvTSwvFw')"
      ],
      "metadata": {
        "colab": {
          "base_uri": "https://localhost:8080/"
        },
        "id": "pB7AQ5a9VY9c",
        "outputId": "b119f5fc-ba44-4f46-d5a9-d4ac7a5c4e74"
      },
      "execution_count": 42,
      "outputs": [
        {
          "output_type": "execute_result",
          "data": {
            "text/plain": [
              "('C', 29)"
            ]
          },
          "metadata": {},
          "execution_count": 42
        }
      ]
    },
    {
      "cell_type": "code",
      "source": [
        "splitted_input"
      ],
      "metadata": {
        "colab": {
          "base_uri": "https://localhost:8080/"
        },
        "id": "acvjeELSWURN",
        "outputId": "a1d379a6-d314-4c07-fd47-21bfe3930d3f"
      },
      "execution_count": 43,
      "outputs": [
        {
          "output_type": "execute_result",
          "data": {
            "text/plain": [
              "['DsPhSBQQQhqmBDhPDsFwjwsLjlRjlttvjvvtRb',\n",
              " 'rNJMNNbrHrtjHLHjvwtg',\n",
              " 'fNbNzZdrZnMnMPnQShFPDmnqFm',\n",
              " 'QWVCFfQffgQCVZzVVpHsHJBqtpspJFRHqq',\n",
              " 'mwDbmnnGNlNcwNDDNRbnNDlJTpBJBtJGtPTLsBGqTqqsqp',\n",
              " 'MlSdnScRnnmmDjSdNSdCzvggWzrgzjvfvrgVzW',\n",
              " 'gsMljbrjlZlWcWMJrWwTwbmwQbmmLDQQLhwL',\n",
              " 'CdgpzdgpgnfThHfFRwhfRf',\n",
              " 'SptgpSpnCNpVSGNPvPGSddcMWjMrjqBsJcWqMcBWcVlZ',\n",
              " 'JcJLQQFWhQJPJpWcwjHvMQvnnlMvzBHd',\n",
              " 'tCtGZrmVRmVGTVTtCfRTCHHNNvdNzmdMvMlNzvwdvw',\n",
              " 'CTGGRftfSGtGTGDLbFchSgSWWWcM',\n",
              " 'QcMFQrvrQbvtczbVbjbMzZzRpqmDDmqqnNzCDCDC',\n",
              " 'SHHfPJssGLPSdHThLhHdRmqNmNssnNmNCNnpjmsn',\n",
              " 'LhLJfTdLJwfgPTdfGccrtjcMrccwvcrrFr',\n",
              " 'jFLLLqDGjbtqLCChpMMhMBvpwMTmffpZ',\n",
              " 'ZnJHRncHHgnrsrZffTdMdMBfmMvfvR',\n",
              " 'NWWPnZrVHrZPCDDQtzDCPLCq',\n",
              " 'jpFjvBZhDFHZdwcmslcslBLLNl',\n",
              " 'dVtTVVCzzfrrMPNLLcnVcPLRns',\n",
              " 'CrzWzTqdWtGCzJtbJCrMjjDFHZQjZSpvFGFgHhHp',\n",
              " 'JjJqMctnhtDZDQtf',\n",
              " 'TrFFlrrCCHPwHwlPHFPzDhsffQQDsVfWwVJQJB',\n",
              " 'HHHGdFlHldTpCCFFlLHdCRJccMnqvqMgnNjjMjjvLMLcSv',\n",
              " 'cMfFcMFcrqgJLFZdrTDdthPGsGmtGs',\n",
              " 'WwjNwnjjBQzVVQHwRDnmtPGhPPsPnnTGld',\n",
              " 'bWHBjWVzpbRzbmScqgZMFcqf',\n",
              " 'RJjPTBJhTNNjfPhRBdqtlgdbGldwtCPgdb',\n",
              " 'ZmrHHmzpvSvvpzvmvDVCGlWVwCWtGtWCddggqf',\n",
              " 'QQpzFrHHQnzHvfTcNshcLRNFJhcR',\n",
              " 'QrPQDrppBQmCmFQm',\n",
              " 'TzqzsLfmsfSTfqzVLftNdJJNJGCwwGdgCwSGNC',\n",
              " 'TVHTfzWsfftsZstnbvrbWbrbppPbrmmP',\n",
              " 'BQrfqrLtJnttqqtQBJDDtBnDzRgldhVVpJlgzpzhpzsgslhV',\n",
              " 'TTNcPZCvZjmPFZjvPHLlWdNLghVhzzlllpVd',\n",
              " 'jcFPbTcZTFcmcjMjjFjbLwbnDBtfqbtBwfwSBnrbGw',\n",
              " 'SZJNJtrNzjjNCzlBBmqmQDBBmDBBjB',\n",
              " 'PGPbGwhLsnvwnVbGPVMZsDsTBBgcZgBBDBfDBf',\n",
              " 'pnnhhvphGVpvRPnJlSFRNNJHZHSdSR',\n",
              " 'hbmDDmwnnVGbhmjNrrWwLNLsWBrw',\n",
              " 'dMrgvcQqdjlBLlfW',\n",
              " 'HzzPSrcHqFHQgzpPcMpQqrtmbbbRhHHVGnZDnVHhVbVZ',\n",
              " 'RwtvdPRvSlTQmHHBQBRL',\n",
              " 'FjVSjrsFVnFQnTHmnT',\n",
              " 'VCVVMrWWjVGgbcNVGCCVdlvfdqfvwbSzwqfwZzwv',\n",
              " 'fmPDwJPDFRmRgPdwwwDNwgwPzhSQzVSzVTQdzHZzHhzQMQzQ',\n",
              " 'sWtGCWtpcqqpNnQjjzhVTTVQczhj',\n",
              " 'tWBGntsCNlqrWswDRfFrbFrPDbPf',\n",
              " 'dmzmjcbQjjQztFNqsqBcMJqNPF',\n",
              " 'nlTWnClWwQDTVnTrsMsCRBPZRJRJqRJq',\n",
              " 'wTrhwpVVvgvlDpTvVWVDdLfzgbLtbzSQLSzzjzLz',\n",
              " 'RWZdHvRdBRGbbvCjJnbn',\n",
              " 'pqqpSwzpSSbCwPwjlwjl',\n",
              " 'gDzzqSVzqrThpDBtRtCZdQRQLrQQ',\n",
              " 'GRqTGqtmTVdGHHVVNNlhPlMqbNqNDbqW',\n",
              " 'LzQSdFnfznfwBcLcnFppBBDDMPMPhDbhlwbWPlbWMjrD',\n",
              " 'QznFnLZFvVvHRgsddG',\n",
              " 'BBHBfBHFdSltmWJvqtNtHq',\n",
              " 'TQDrrVMzVDnWnNZDJc',\n",
              " 'gWzprTCrCMQzGGjjhwFwdffjfl',\n",
              " 'LLLSSSzBBlBLsszncCBZSPSMMMpdWTdrmmnfVGVmMfmrmm',\n",
              " 'DghttvwhHRvjJthNJwhVtDHGpddMWdMmrMmfGdppjWTfpq',\n",
              " 'gbJRthQDDRvwtDhQhDFPcVcbPczLzPBScBBF',\n",
              " 'sZsZpTtLCsbspZtTwrCwrwtDmNNdJmmqSJfqmfNGNmHqGdqb',\n",
              " 'nQvjTcjQglFVlllMFMVFqWfNqnNHHHdfSfHqfSJq',\n",
              " 'hFvvgFcFVzphpTrrwZDp',\n",
              " 'qJqfhsBpfSpchpqcrqwCDvvCDQndmpwDtnRQ',\n",
              " 'jWHPZWWjZsCmCWRDmQ',\n",
              " 'PPzMGHlzMNsPLPlZsllgsNrhNVBqhFVBbBSqFFBFrV',\n",
              " 'RnRsFFdSzmgwvQsqwc',\n",
              " 'lbgHGMBHlWWWlfWGGBtGwqDpDwmcpMrrqrQDZrMZ',\n",
              " 'GGJLBVJbVGjGtHVfJtWGHBLLPdzdCghnRnRnSShgNnhnddhj',\n",
              " 'VgzLFjjwhhSwFhVZgRhRgHHCCvdZdrqqCTvBCrqvvr',\n",
              " 'ncnNbGMcPpvHFrssdBHM',\n",
              " 'cnctcNNbQGWFJctftgVmzShzzwwVwgmwfR',\n",
              " 'pFWmSSFGQlvTbwWTwH',\n",
              " 'jdBgNhRgMftNBhPbhHnZHlTTZcwZ',\n",
              " 'lfBNRjCtCfMjsBfCjgfNBRMppGpJqsJQGrrmmJDpGmDDFG',\n",
              " 'GznngnhzccVdgjbbVjVjVbVLwwQJmQMrLTZhJmZLQTJWmm',\n",
              " 'pDBSslPCFPCpvCqvpPBQTlQLrdlJWrLJLmrlrr',\n",
              " 'psSsBptpCBdjtcjNVcGG',\n",
              " 'sssppsmchwspFLtvHhQJMtFb',\n",
              " 'rRLDqRVLNSMvFSSV',\n",
              " 'WDrLnzrDqzRqRzzfLgRnzrnsssZZZsZBgCwwmBppwBspZc',\n",
              " 'MtPbwvzzVtzfsqGGVpdSjsLd',\n",
              " 'DnNRCDJBnHJDHDnrDTRcnNZpZSsSLqjpdqqqSMqdddTj',\n",
              " 'CFRFRFHgDRnRgMtfFvvwzwvwvzWv',\n",
              " 'PNpFPncvvchPpNjpFhvPhPLmBwMgDRRwRgMDhBmLzBDD',\n",
              " 'trHSrdTtslWrSWmfzgmMnfBzmn',\n",
              " 'JsrQsJHHlsVqTjjpbbNnQNNpGG',\n",
              " 'sVQCdsmGlnlCmnGmQQhGCJJNvNjpgqhqhvPgpgPqjpcpcW',\n",
              " 'DMSfSbHLHbSDBBzLNvccWRcddvPjNj',\n",
              " 'FSwHfTFdFsmJlnTTmV',\n",
              " 'FctwtTTCScvShFqtwScrcTSCJQGNndGHWJNQHWHZdgJrJgGN',\n",
              " 'jspLlfPlpfsDjBspfllWgdWHQggZHngHNGdsWJ',\n",
              " 'lRMpBlPmSFRTcvZv',\n",
              " 'TVZpRRVvFRVpTZRfFhFvvzGVwrwwwdDBMwQrgcDtMtDDwZrL',\n",
              " 'jsNsWqWjNQCNWbjPMcBLPgBtrdMwdrdL',\n",
              " 'SJSsmqlSNljbmlNjsbQVffzGRvzmmVhQpVGz',\n",
              " 'BFFMvcwMwwpFFfpbDMqPVgLVgmLDPR',\n",
              " 'JtSsSzJssQJJWjRZzgLnDgqLPZgzbg',\n",
              " 'dsdtWQWdRGjTRNQNQvGfHCCFpvfGwlCfCp',\n",
              " 'zzWGqWnqnwWCvCrHffHRpBpBBRSJzRFFDhSQFR',\n",
              " 'VPVsZMNTLsMvPsmBJhllFpFBTJFQpl',\n",
              " 'sZtsNsZtdZgjbwggjnbvqr',\n",
              " 'QpTvrphmDvvddfcJJHTTncMlMG',\n",
              " 'bRZZPRwjgzzlSSjGlnlSJS',\n",
              " 'BZzBzssWgwzzwNBsgsPBgszmQptqrrGdvdWmqdhhFQDpQF',\n",
              " 'FfMtzSqlDlzfMhPFhPtffNRsCgSgCCGspRpRGSsgsg',\n",
              " 'WTcWLTTVnWmrVdLrcHmNGNCZwCCggpgDRwpCnR',\n",
              " 'JcdWJHTJWdJdjJccrLvlFltFQQvPFDMjqqlP',\n",
              " 'NfjFNNZPDQVJVWpCbQpJ',\n",
              " 'lcmdzlmzBtRSTlTTcncsVSbhpLWpWgsWghgsVS',\n",
              " 'mBTRRmGccRtBwDbrGPbrMMrF',\n",
              " 'VVQqlsGrVsMWBNFNMQHF',\n",
              " 'TfzZfDgjgnLGjjztTncCFwwNmdvNcwwNBvHNFwvd',\n",
              " 'jzjDgZzjntGJZzCnhrrSlPVsJslpslPq',\n",
              " 'dVhpjGPdjHhqHgtHJJ',\n",
              " 'sFzrzllQswDwFbcmBlgvZTCgvqTCfgHQJtqT',\n",
              " 'nDbBsFzzrrtFrlwzPdSVMWMVVMSnGNLd',\n",
              " 'wqJCjqChmwMLmMmprNgG',\n",
              " 'DNTtdsdWcHdNspGQggnrgLnQpc',\n",
              " 'SZvFftdddDsDTtttTDJNCCwJJZzbbCjwwVPj',\n",
              " 'VstwZCwslBZQDBjfDDBDfS',\n",
              " 'rvHnmMRrTzmMrmhRppbhDfpjfbjbctjD',\n",
              " 'rPFLRLmFvvLvHvTCtqsVVwldGZGPGV',\n",
              " 'SNZDJGfvwgMgfgmLmLcmBqgWgQWr',\n",
              " 'hPnPTnVGsPRqLWpTmQqQ',\n",
              " 'tsbnFhhjhSdGJNCjSf',\n",
              " 'QSbGgBjfTCMWFNPFFtDghPrP',\n",
              " 'JqHqJVzZzwJJHLlqQptDhPrctpPDtnLF',\n",
              " 'zZmwJwdwdvHddVJvZqdzHlfGBbsCmMTsWCBCjsGGBbMQ',\n",
              " 'gVmLtpWrFTFBLtpcFNbvhNNnTnvnQRlQQv',\n",
              " 'GHjjqsMqwZZJdqGfZjfZGjQDDhvQNzznzRzRwDNbvgzv',\n",
              " 'sZGPgssMqHZpPptmCcpCrP',\n",
              " 'CZCNNLmwzwCGMZQMQsFNWplvpsJBWpFHBp',\n",
              " 'SPbSbDRRbnDqggnbVbVrbRWHJFTlBBcTvWvsPvFpHTcl',\n",
              " 'tVgSvqVbnqDdgQzMQMGMmzthCw',\n",
              " 'mpbPQlblbwSlfSPGBpBGPpBFgMMtLFSHMLVVDVdtHLNctF',\n",
              " 'WnhZsrJhTnWrgZdZgHNLcLtt',\n",
              " 'hjCsCWRhjzhTjnWnQBbmPQQPLBGfqjwQ',\n",
              " 'BFrzdtmRmpFtFwwmjjzNQllPshqHvjNh',\n",
              " 'fWCLLCMJnCDbgfMJhPsPHvqvqVsssQ',\n",
              " 'WbLnCZnvprpmZrGd',\n",
              " 'gjMzTGBjWFBCCSSrBC',\n",
              " 'bddJJndbdJfwPPthrrSSSsFSSg',\n",
              " 'NJHbZbbvvWGgjWgT',\n",
              " 'dpfphMggHdQcwftMMgdtzWGfGWnDBnmvnVJVvfmn',\n",
              " 'CqPFTZPSNCTsZZZRLzGmcGVzDLGvLWBWJm',\n",
              " 'TCrTNSScPlplpHrQrQ',\n",
              " 'lqrCvhWFvMGWgfHPgLfjfdgG',\n",
              " 'zjmbjSnzRzVVRmzBRtwjVQnNLfdPgfLdfTtNLPHTNNpppf',\n",
              " 'mbSZRzQRBnnzbQJbmjmSbmVhlslZMrclWFrrqWCWsFhchF',\n",
              " 'mpfNshshflNthWfJCBBdmnQbQBZQdn',\n",
              " 'VFVRccgGTqTrHTbWBFjJBCFFJCCQ',\n",
              " 'PvTDHqHqPPGVqqhwfNlWlDhMltlh',\n",
              " 'HmLLgWVjJwhwWLgjjhmVHLLLlSzBlBlSvBvBFGvtdStJSSvq',\n",
              " 'TRRrPMsfQTbRRCZRnTMRZZTCcvSccqBqBBlzdFvBqFsGBcts',\n",
              " 'bRNPbRCZMCrQNfPLdhVpLDVgDhNHWV',\n",
              " 'sPJFDsSsVLgHjLHPbj',\n",
              " 'vCnRQhhRQdVQZlZdbHNMlqNNjgjbpbBL',\n",
              " 'ChhCCCWTWnnmvmGtztStzScwrcVcFW',\n",
              " 'NRBTNDBglSSgDwCClQQSFFHdLLsFbPFFLt',\n",
              " 'McpmWccMWHZPcLstbt',\n",
              " 'MWnWphVMvvzJzpWJWmVphjrDDBBTRwRDDDRRCnPDnqgg',\n",
              " 'hsnnhhLljLPTmZwvdZdZjmmz',\n",
              " 'RQNNDpNMSZwvsmqstN',\n",
              " 'QFMFRDVDsHSpRpHSMRHfGGGTLhCChBGhBhBFBJ',\n",
              " 'TTbltCvClzvzCZtwtwLTtQQQgjNgmjgQRRRQSjQLjR',\n",
              " 'HPpnZHcJsdnnfsdVHHSSqghhmqBSSqSmBfNj',\n",
              " 'VMJJdnMPrMGVrzvCZwZWCzCt',\n",
              " 'CcQnBBCfBvRzDlsS',\n",
              " 'PdbPPCbhGGpDSDlDDhvDJl',\n",
              " 'HmHWPWdbHnCwCHCr',\n",
              " 'JHlmJcMWHQcPmlmJMmMZPfwTTRDfgdDBfRtgQgdfBw',\n",
              " 'zVvFrqGjzWGVrqvjvNFpspvVBgNNddtTgghhRTwgdDwwwBfT',\n",
              " 'bVFrrvsvjWGVsCsqpSHZmMPJlJnCcLcPZZ',\n",
              " 'QrrQZFZnRtnFRTrnlFTtRZwpGGwzGszhjzbsGzzhmjjhhmhf',\n",
              " 'SgvpDSJSgPBSDPDNgpggmsMhMmffsMmzfJmzHHMj',\n",
              " 'WNVcCPgSSDCddSdWCpNBclCQQFRQQlnTLFLRZQnLtt',\n",
              " 'tgvqWqzvntdlzNzzHrbPrMhHMhhrVrjPmC',\n",
              " 'FGTGGRGTffcJRpQcJJwmjhPLhjnCQPrLPVQrMr',\n",
              " 'SppRSDRwFnJJwwswTDdtzBzqWWzZDldNgtvl',\n",
              " 'sjzPjLphMSrlppSp',\n",
              " 'fbGqgwTqgVTFFcgGTTGcQvfHQZRlSrSlSmMNMBRNNNrZmm',\n",
              " 'MVcFGTFtqjsJLjjtCd',\n",
              " 'jVJqTRHjjtDjZnVJVVjnNdwfCFPZmPgCCgCZGCFFrrFg',\n",
              " 'LSLBMBWsbBBCgfdrFd',\n",
              " 'ShbbzdzQRNNNVhDN',\n",
              " 'JwbSRqmSwRwcpmbSSVfhNBTVGGRnNNzRNh',\n",
              " 'ZPfQPjZZrffQZszhzTnVGBvntsNz',\n",
              " 'rLjggjQgQgFdPQjLFQZgwLMbWccLSwWHqHfSqpwc',\n",
              " 'cBhzNpztzHNrpHSHQrhZjZqdJRRgPqjhjqqP',\n",
              " 'bQwsMTswwVjdZMVRJM',\n",
              " 'vGWCTDCTQvvtlvQQ',\n",
              " 'mHVmTTsmzRmRHffmmfMGBzSPMhSWWdDWDSGB',\n",
              " 'VNcnNbtqqJbcbvgvWhShDBDPhjgPhSjB',\n",
              " 'FrrbCnqJcbCJcFFbnqJlppCTfQmfmZQTLVswRLZp',\n",
              " 'rWWppSStfRBLfHPdHHDzlldZ',\n",
              " 'QrTnQmmVCqvrvJvzJZPHvzHsDs',\n",
              " 'qgMMmrTTCcnQQmCNQNQmgTpwRWRtwtpcBWwjSRSSpttW',\n",
              " 'SzWQwwqVbQzwGSfVwffVwbqhFGFFMgGLGMlNMcnNgcvlMg',\n",
              " 'ddZHHsrCdBssDsHmChFLNNnMvmNnnnFncL',\n",
              " 'rpJJdHZJdZHQSRJbSfVhww',\n",
              " 'jLtFhNwNNvHnjFVvQLQLHhfbGDMPfffpllpttZMPPZZb',\n",
              " 'VmrqszVmgCWWggbPGclPlZbcZCbf',\n",
              " 'JdrTmVTVsqsRJHvQnnhwhBLH',\n",
              " 'vpdBvsvdVvSPhvQFCgrRmhjqqRgWcWWgmf',\n",
              " 'tJDGbZHbjRHNrrBj',\n",
              " 'DnMnzGJJwtzVSzzBzTBSTF',\n",
              " 'hZMDbQhMhlMDJrDrPMJRRqGJSvFvSwFSVdvGvwSFqq',\n",
              " 'HjjzcRTnpGVSGGFWHH',\n",
              " 'pssmjctLzpsRRnhlQbPfPrgDbZls',\n",
              " 'FJMhPhnTMGmBFdnmlrfqfCcwlwCwCv',\n",
              " 'pjHLsLbjjRHsHsjDjVsgDRjzCnfCfzqrqvwgflcvcvvgqz',\n",
              " 'njtpHZnLLQGhTtTWSSSh',\n",
              " 'NMddMTDrrjNnrnMWMrlnPwNwftBtGvptGjBHgBgpfCCSfgvf',\n",
              " 'mqRqLFZRVFbtgBSCbGWWHp',\n",
              " 'LZZRmQhVLLFzZdTQPndPNTTnQW',\n",
              " 'CprQrcpqhHhpppchpphdcdpLMRMGsVGGsMsLbZbtbfMRmtbG',\n",
              " 'DzlgTjwPTlSSSCDSlggNmMRtbsstsMfbwtVssMmt',\n",
              " 'TNCNSBNJJTNPJjCTBDzjlJrvvcQrrhphWBqHhHdqrnrr',\n",
              " 'ScbcbglMPRSmvclTlzMTdhVHhhjfdsdhrVDzfjrD',\n",
              " 'LJGtpQwpQBBCttJLGqtqGHhPfDdHwjjhrVrhdrdshr',\n",
              " 'WCpZQCGqtqQWtQWplZPcvMmgmvPccbvT',\n",
              " 'tGWqthqGVdzBWwdd',\n",
              " 'BZvZHFFHZrHZvZNRRHHZNHrMMTzRMTdTzbgDVMVssTDTwg',\n",
              " 'JnNmrHHNrCGBPPnGGc',\n",
              " 'wvFvZBmppBdSLcvshcLrgl',\n",
              " 'bTQqJJHJzJjDQjQtzRVJztDHslgNNVLcgSrsSsWrSslWgrgL',\n",
              " 'TqHHjQnbHTbbmZBBcFMpmBwn',\n",
              " 'ZFCqSlCPdCRTLWWTQQLLQS',\n",
              " 'GjggHcvsggHVTVBLnlcpBQ',\n",
              " 'hvGhlrtjmjrHHhjsMPFNPdtqMPqqRfCf',\n",
              " 'cgRwVfVzrgqqwZctTztFMFMTCdPmmF',\n",
              " 'bWJsSJHpTDRDTWMC',\n",
              " 'sHHNbshnlJhJjBsjsbnBHbZcqrZZQwqvvZcrwwvRcZnr',\n",
              " 'ttgVBtMbttngmHJVpzlzZlppzw',\n",
              " 'cPcsRPmPPQfGcccRQSSZzzvzlflzZHvJppzJzT',\n",
              " 'sQPSCPPWccWWWqsQqRCQFNRMmnbnjjNbgDdBjhBrdbdDbd',\n",
              " 'gSsZDSgdQZgWSgddwLDLLfCDBqvlhBlClqtqjhvBhB',\n",
              " 'RMcsVMcsbVsrPrmJcPHHVvfjjCnvvfCqhlqvqqqq',\n",
              " 'NFMRRpHPgzszGppG',\n",
              " 'WmmZZNJCgCBZCzPvmBCmjWjjqFtFqjFjbVwqwjtt',\n",
              " 'ppDMpdMfSfSSNtlwqbqwwq',\n",
              " 'dTGDhdnfLMLhfDDpQvZNZgmrmrQJgrLQ',\n",
              " 'jrqRqfNNhrVvcTVdpTscpd',\n",
              " 'tGWBlLggWGddTspZZd',\n",
              " 'JJzWtQgQsDbBgDWsgbFrPrRJNMJMPqMNfHjH',\n",
              " 'GdvVbbWsWdvWGDvWZcbFBTBZCzCjwzrhPBJjzF',\n",
              " 'nQPfSHnglfpnMSngnMgJTprJCCwwrwCwpTpCFj',\n",
              " 'SQQHSttRqggmlVsNcvWdRvbWPN',\n",
              " 'WLNLCWLsSJgHFrSHrM',\n",
              " 'gDbzRTcmbzPPgPPdtBctfHfrMMQfGFJrhQnMfGJR',\n",
              " 'dmmzzqZdDqqTLLwjgZgNljws',\n",
              " 'TCqsDHssmDsDGVGlVcMccGDV',\n",
              " 'FLntWWnnFzFgzzbtbznLBtlfjGZmcfFGVNFGlVZcMNlN',\n",
              " 'PpbLLmpgbRzqpCHwChQqwh',\n",
              " 'lVBPVgflgBVVrVTTwgwBPmgflDQjnnGvqjGDDFjGlGnvqHHJ',\n",
              " 'ScCLzdCZdbLSbFdFqvDDdGMQGQ',\n",
              " 'bchNCLRWSbzCbNRzbWRmsrhQwVVwBhmQpPwpgV',\n",
              " 'GmfHCCPqWqHLWLCfRJpbrrbQphwZbZ',\n",
              " 'STVDQzNnzMzNdstMDzzNtZwFhrlwVJJrJlFFJRFwFR',\n",
              " 'DzSvzstnszMnjQcqggjPqQBcqq',\n",
              " 'BzNwLTqwTjrBrljWpBlrQpBpsCGGCtpssCMttDtHsttMDCHp',\n",
              " 'mnrJVmRhhvJVcHtsGHMCnZCPZM',\n",
              " 'bvSmVbRhbgmmSJflzNLrzqzfWfqBWr',\n",
              " 'qsZLqqFNhfrGnJFv',\n",
              " 'DVjVmWlcjVjdDTDlbbTDTzmrCnMmJGnHnmCHfJGfvnfM',\n",
              " 'lVRdDglTlTgVlVjbWWVzVjvNZqSBsLZNtqRsLBqLqQtL',\n",
              " 'ffRRfLVHZHfJHVJcMrMZZwwTzGBBzBTBjGTwrwdSCj',\n",
              " 'qmWbWQbqnbvWhbQPGnGNnpvwSzltpBldtSdzllptCSjTTt',\n",
              " 'vWsbnbWnNvQQQQvsRRLfJRRVGfDcfV',\n",
              " 'PpqrvswPvvvPsNqmDLDttCCcHHZVrCtW',\n",
              " 'hgSddBhghQMdbhbwhgSdQgCCctZcDtLntLttCVLtSLCc',\n",
              " 'dGzdQMFzQMdgGGlGJMzBgBwRqNNfmmTsvfRfJTpwjmpP',\n",
              " 'pcphpdrWDmTgHWMtRWqHRVVH',\n",
              " 'SbGcGGQnvNQGvsjBtVHBLjvqVPVB',\n",
              " 'lzbQCzbZllSzQslpCJpJJDggcggfDT',\n",
              " 'ffrTlhrVrfCsDVTsWzGBBZcBRBqRBWtGtZcq',\n",
              " 'QNFmFHrHNSSmSLJdJrNGZLbGjbcBjBGjqcbgjc',\n",
              " 'ddQvPnHddnQJHSHSFPdnFfDDTfDMMCrwMlPTwDCsrC',\n",
              " 'NBnrNHQHBscvhfBM',\n",
              " 'bbGtgWWWqZFmnZGZbmVCdMzvvShfzfGcdcfMSS',\n",
              " 'WqbjnmbnjWgmFFgtWVbWZwNTNLjNprNwQLDwrTrHQr',\n",
              " 'lwwlcjlzQRBcBccbdLCVnNVWJJzfLndd',\n",
              " 'pZDMtZpSDMZpMZMsPtHVNJVfRCRddVndnJLSJd',\n",
              " 'mDTZvTqtDDHttRPcqhQlwgGlghbqBh',\n",
              " 'DTspTqssqTbdmCMwVmnmlfCD',\n",
              " 'PLPWjjrSjvPzqZvjvRqjLtPwnnHCmWVcncMnnwmncHcHll',\n",
              " 'RFztFjjqjQFQTbdTbQ',\n",
              " 'hTFSVSdhMMVMFjjgbthcbzczcg',\n",
              " 'DvwCJVJWWJDRnfmbDmccfmmgfb',\n",
              " 'QrJvPGWWnpVMqdZsZpqM',\n",
              " 'gRLcHbgnfpgpJjlqqp',\n",
              " 'SFwrTHFBqlZtBPZq',\n",
              " 'HTzDwmSvCvCmsmmvTSwvFwcfRRNRLcQRWNssNNbRWLWL',\n",
              " 'PpMgDMDnsWSnjBQnrjbn',\n",
              " 'LFcVVGChCFdhdVFZVpVCdVbvQbRrbvBBbBjQSJZrrJrR',\n",
              " 'FNwGNCCFHcVTHcFdHHHTDzMzfsgzwpPWMmPflmtt']"
            ]
          },
          "metadata": {},
          "execution_count": 43
        }
      ]
    },
    {
      "cell_type": "code",
      "source": [
        "#Main loop\n",
        "total_priority = 0\n",
        "for row in splitted_input:\n",
        "  #Split the string in half\n",
        "  string1,string2 = split_into_two(row)\n",
        "  _,priority_val = determine_common_elements(string1,string2)\n",
        "  total_priority += priority_val\n",
        "  \n"
      ],
      "metadata": {
        "id": "MtMsYnDDVjAZ"
      },
      "execution_count": 44,
      "outputs": []
    },
    {
      "cell_type": "code",
      "source": [
        "total_priority"
      ],
      "metadata": {
        "colab": {
          "base_uri": "https://localhost:8080/"
        },
        "id": "eEO2ETtfWmaA",
        "outputId": "20dbd4a3-ff0c-4c6f-8a87-e4fe93408b03"
      },
      "execution_count": 45,
      "outputs": [
        {
          "output_type": "execute_result",
          "data": {
            "text/plain": [
              "8176"
            ]
          },
          "metadata": {},
          "execution_count": 45
        }
      ]
    },
    {
      "cell_type": "markdown",
      "source": [
        "## **Part 2**\n",
        "\n",
        "\n",
        "That is, if a group's badge is item type B, then all three Elves will have item type B somewhere in their rucksack, and at most two of the Elves will be carrying any other item type."
      ],
      "metadata": {
        "id": "F0_fDSsVWt-s"
      }
    },
    {
      "cell_type": "code",
      "source": [
        "new_list = [splitted_input[i:i+3] for i in range(0,int(len(splitted_input)),3)]"
      ],
      "metadata": {
        "id": "kX1JDKASWnGB"
      },
      "execution_count": 96,
      "outputs": []
    },
    {
      "cell_type": "code",
      "source": [
        "splitted_input"
      ],
      "metadata": {
        "colab": {
          "base_uri": "https://localhost:8080/"
        },
        "id": "5Zm104tbgjE2",
        "outputId": "88b9d544-2e90-41dd-96d5-e1c17bed4c21"
      },
      "execution_count": 97,
      "outputs": [
        {
          "output_type": "execute_result",
          "data": {
            "text/plain": [
              "['DsPhSBQQQhqmBDhPDsFwjwsLjlRjlttvjvvtRb',\n",
              " 'rNJMNNbrHrtjHLHjvwtg',\n",
              " 'fNbNzZdrZnMnMPnQShFPDmnqFm',\n",
              " 'QWVCFfQffgQCVZzVVpHsHJBqtpspJFRHqq',\n",
              " 'mwDbmnnGNlNcwNDDNRbnNDlJTpBJBtJGtPTLsBGqTqqsqp',\n",
              " 'MlSdnScRnnmmDjSdNSdCzvggWzrgzjvfvrgVzW',\n",
              " 'gsMljbrjlZlWcWMJrWwTwbmwQbmmLDQQLhwL',\n",
              " 'CdgpzdgpgnfThHfFRwhfRf',\n",
              " 'SptgpSpnCNpVSGNPvPGSddcMWjMrjqBsJcWqMcBWcVlZ',\n",
              " 'JcJLQQFWhQJPJpWcwjHvMQvnnlMvzBHd',\n",
              " 'tCtGZrmVRmVGTVTtCfRTCHHNNvdNzmdMvMlNzvwdvw',\n",
              " 'CTGGRftfSGtGTGDLbFchSgSWWWcM',\n",
              " 'QcMFQrvrQbvtczbVbjbMzZzRpqmDDmqqnNzCDCDC',\n",
              " 'SHHfPJssGLPSdHThLhHdRmqNmNssnNmNCNnpjmsn',\n",
              " 'LhLJfTdLJwfgPTdfGccrtjcMrccwvcrrFr',\n",
              " 'jFLLLqDGjbtqLCChpMMhMBvpwMTmffpZ',\n",
              " 'ZnJHRncHHgnrsrZffTdMdMBfmMvfvR',\n",
              " 'NWWPnZrVHrZPCDDQtzDCPLCq',\n",
              " 'jpFjvBZhDFHZdwcmslcslBLLNl',\n",
              " 'dVtTVVCzzfrrMPNLLcnVcPLRns',\n",
              " 'CrzWzTqdWtGCzJtbJCrMjjDFHZQjZSpvFGFgHhHp',\n",
              " 'JjJqMctnhtDZDQtf',\n",
              " 'TrFFlrrCCHPwHwlPHFPzDhsffQQDsVfWwVJQJB',\n",
              " 'HHHGdFlHldTpCCFFlLHdCRJccMnqvqMgnNjjMjjvLMLcSv',\n",
              " 'cMfFcMFcrqgJLFZdrTDdthPGsGmtGs',\n",
              " 'WwjNwnjjBQzVVQHwRDnmtPGhPPsPnnTGld',\n",
              " 'bWHBjWVzpbRzbmScqgZMFcqf',\n",
              " 'RJjPTBJhTNNjfPhRBdqtlgdbGldwtCPgdb',\n",
              " 'ZmrHHmzpvSvvpzvmvDVCGlWVwCWtGtWCddggqf',\n",
              " 'QQpzFrHHQnzHvfTcNshcLRNFJhcR',\n",
              " 'QrPQDrppBQmCmFQm',\n",
              " 'TzqzsLfmsfSTfqzVLftNdJJNJGCwwGdgCwSGNC',\n",
              " 'TVHTfzWsfftsZstnbvrbWbrbppPbrmmP',\n",
              " 'BQrfqrLtJnttqqtQBJDDtBnDzRgldhVVpJlgzpzhpzsgslhV',\n",
              " 'TTNcPZCvZjmPFZjvPHLlWdNLghVhzzlllpVd',\n",
              " 'jcFPbTcZTFcmcjMjjFjbLwbnDBtfqbtBwfwSBnrbGw',\n",
              " 'SZJNJtrNzjjNCzlBBmqmQDBBmDBBjB',\n",
              " 'PGPbGwhLsnvwnVbGPVMZsDsTBBgcZgBBDBfDBf',\n",
              " 'pnnhhvphGVpvRPnJlSFRNNJHZHSdSR',\n",
              " 'hbmDDmwnnVGbhmjNrrWwLNLsWBrw',\n",
              " 'dMrgvcQqdjlBLlfW',\n",
              " 'HzzPSrcHqFHQgzpPcMpQqrtmbbbRhHHVGnZDnVHhVbVZ',\n",
              " 'RwtvdPRvSlTQmHHBQBRL',\n",
              " 'FjVSjrsFVnFQnTHmnT',\n",
              " 'VCVVMrWWjVGgbcNVGCCVdlvfdqfvwbSzwqfwZzwv',\n",
              " 'fmPDwJPDFRmRgPdwwwDNwgwPzhSQzVSzVTQdzHZzHhzQMQzQ',\n",
              " 'sWtGCWtpcqqpNnQjjzhVTTVQczhj',\n",
              " 'tWBGntsCNlqrWswDRfFrbFrPDbPf',\n",
              " 'dmzmjcbQjjQztFNqsqBcMJqNPF',\n",
              " 'nlTWnClWwQDTVnTrsMsCRBPZRJRJqRJq',\n",
              " 'wTrhwpVVvgvlDpTvVWVDdLfzgbLtbzSQLSzzjzLz',\n",
              " 'RWZdHvRdBRGbbvCjJnbn',\n",
              " 'pqqpSwzpSSbCwPwjlwjl',\n",
              " 'gDzzqSVzqrThpDBtRtCZdQRQLrQQ',\n",
              " 'GRqTGqtmTVdGHHVVNNlhPlMqbNqNDbqW',\n",
              " 'LzQSdFnfznfwBcLcnFppBBDDMPMPhDbhlwbWPlbWMjrD',\n",
              " 'QznFnLZFvVvHRgsddG',\n",
              " 'BBHBfBHFdSltmWJvqtNtHq',\n",
              " 'TQDrrVMzVDnWnNZDJc',\n",
              " 'gWzprTCrCMQzGGjjhwFwdffjfl',\n",
              " 'LLLSSSzBBlBLsszncCBZSPSMMMpdWTdrmmnfVGVmMfmrmm',\n",
              " 'DghttvwhHRvjJthNJwhVtDHGpddMWdMmrMmfGdppjWTfpq',\n",
              " 'gbJRthQDDRvwtDhQhDFPcVcbPczLzPBScBBF',\n",
              " 'sZsZpTtLCsbspZtTwrCwrwtDmNNdJmmqSJfqmfNGNmHqGdqb',\n",
              " 'nQvjTcjQglFVlllMFMVFqWfNqnNHHHdfSfHqfSJq',\n",
              " 'hFvvgFcFVzphpTrrwZDp',\n",
              " 'qJqfhsBpfSpchpqcrqwCDvvCDQndmpwDtnRQ',\n",
              " 'jWHPZWWjZsCmCWRDmQ',\n",
              " 'PPzMGHlzMNsPLPlZsllgsNrhNVBqhFVBbBSqFFBFrV',\n",
              " 'RnRsFFdSzmgwvQsqwc',\n",
              " 'lbgHGMBHlWWWlfWGGBtGwqDpDwmcpMrrqrQDZrMZ',\n",
              " 'GGJLBVJbVGjGtHVfJtWGHBLLPdzdCghnRnRnSShgNnhnddhj',\n",
              " 'VgzLFjjwhhSwFhVZgRhRgHHCCvdZdrqqCTvBCrqvvr',\n",
              " 'ncnNbGMcPpvHFrssdBHM',\n",
              " 'cnctcNNbQGWFJctftgVmzShzzwwVwgmwfR',\n",
              " 'pFWmSSFGQlvTbwWTwH',\n",
              " 'jdBgNhRgMftNBhPbhHnZHlTTZcwZ',\n",
              " 'lfBNRjCtCfMjsBfCjgfNBRMppGpJqsJQGrrmmJDpGmDDFG',\n",
              " 'GznngnhzccVdgjbbVjVjVbVLwwQJmQMrLTZhJmZLQTJWmm',\n",
              " 'pDBSslPCFPCpvCqvpPBQTlQLrdlJWrLJLmrlrr',\n",
              " 'psSsBptpCBdjtcjNVcGG',\n",
              " 'sssppsmchwspFLtvHhQJMtFb',\n",
              " 'rRLDqRVLNSMvFSSV',\n",
              " 'WDrLnzrDqzRqRzzfLgRnzrnsssZZZsZBgCwwmBppwBspZc',\n",
              " 'MtPbwvzzVtzfsqGGVpdSjsLd',\n",
              " 'DnNRCDJBnHJDHDnrDTRcnNZpZSsSLqjpdqqqSMqdddTj',\n",
              " 'CFRFRFHgDRnRgMtfFvvwzwvwvzWv',\n",
              " 'PNpFPncvvchPpNjpFhvPhPLmBwMgDRRwRgMDhBmLzBDD',\n",
              " 'trHSrdTtslWrSWmfzgmMnfBzmn',\n",
              " 'JsrQsJHHlsVqTjjpbbNnQNNpGG',\n",
              " 'sVQCdsmGlnlCmnGmQQhGCJJNvNjpgqhqhvPgpgPqjpcpcW',\n",
              " 'DMSfSbHLHbSDBBzLNvccWRcddvPjNj',\n",
              " 'FSwHfTFdFsmJlnTTmV',\n",
              " 'FctwtTTCScvShFqtwScrcTSCJQGNndGHWJNQHWHZdgJrJgGN',\n",
              " 'jspLlfPlpfsDjBspfllWgdWHQggZHngHNGdsWJ',\n",
              " 'lRMpBlPmSFRTcvZv',\n",
              " 'TVZpRRVvFRVpTZRfFhFvvzGVwrwwwdDBMwQrgcDtMtDDwZrL',\n",
              " 'jsNsWqWjNQCNWbjPMcBLPgBtrdMwdrdL',\n",
              " 'SJSsmqlSNljbmlNjsbQVffzGRvzmmVhQpVGz',\n",
              " 'BFFMvcwMwwpFFfpbDMqPVgLVgmLDPR',\n",
              " 'JtSsSzJssQJJWjRZzgLnDgqLPZgzbg',\n",
              " 'dsdtWQWdRGjTRNQNQvGfHCCFpvfGwlCfCp',\n",
              " 'zzWGqWnqnwWCvCrHffHRpBpBBRSJzRFFDhSQFR',\n",
              " 'VPVsZMNTLsMvPsmBJhllFpFBTJFQpl',\n",
              " 'sZtsNsZtdZgjbwggjnbvqr',\n",
              " 'QpTvrphmDvvddfcJJHTTncMlMG',\n",
              " 'bRZZPRwjgzzlSSjGlnlSJS',\n",
              " 'BZzBzssWgwzzwNBsgsPBgszmQptqrrGdvdWmqdhhFQDpQF',\n",
              " 'FfMtzSqlDlzfMhPFhPtffNRsCgSgCCGspRpRGSsgsg',\n",
              " 'WTcWLTTVnWmrVdLrcHmNGNCZwCCggpgDRwpCnR',\n",
              " 'JcdWJHTJWdJdjJccrLvlFltFQQvPFDMjqqlP',\n",
              " 'NfjFNNZPDQVJVWpCbQpJ',\n",
              " 'lcmdzlmzBtRSTlTTcncsVSbhpLWpWgsWghgsVS',\n",
              " 'mBTRRmGccRtBwDbrGPbrMMrF',\n",
              " 'VVQqlsGrVsMWBNFNMQHF',\n",
              " 'TfzZfDgjgnLGjjztTncCFwwNmdvNcwwNBvHNFwvd',\n",
              " 'jzjDgZzjntGJZzCnhrrSlPVsJslpslPq',\n",
              " 'dVhpjGPdjHhqHgtHJJ',\n",
              " 'sFzrzllQswDwFbcmBlgvZTCgvqTCfgHQJtqT',\n",
              " 'nDbBsFzzrrtFrlwzPdSVMWMVVMSnGNLd',\n",
              " 'wqJCjqChmwMLmMmprNgG',\n",
              " 'DNTtdsdWcHdNspGQggnrgLnQpc',\n",
              " 'SZvFftdddDsDTtttTDJNCCwJJZzbbCjwwVPj',\n",
              " 'VstwZCwslBZQDBjfDDBDfS',\n",
              " 'rvHnmMRrTzmMrmhRppbhDfpjfbjbctjD',\n",
              " 'rPFLRLmFvvLvHvTCtqsVVwldGZGPGV',\n",
              " 'SNZDJGfvwgMgfgmLmLcmBqgWgQWr',\n",
              " 'hPnPTnVGsPRqLWpTmQqQ',\n",
              " 'tsbnFhhjhSdGJNCjSf',\n",
              " 'QSbGgBjfTCMWFNPFFtDghPrP',\n",
              " 'JqHqJVzZzwJJHLlqQptDhPrctpPDtnLF',\n",
              " 'zZmwJwdwdvHddVJvZqdzHlfGBbsCmMTsWCBCjsGGBbMQ',\n",
              " 'gVmLtpWrFTFBLtpcFNbvhNNnTnvnQRlQQv',\n",
              " 'GHjjqsMqwZZJdqGfZjfZGjQDDhvQNzznzRzRwDNbvgzv',\n",
              " 'sZGPgssMqHZpPptmCcpCrP',\n",
              " 'CZCNNLmwzwCGMZQMQsFNWplvpsJBWpFHBp',\n",
              " 'SPbSbDRRbnDqggnbVbVrbRWHJFTlBBcTvWvsPvFpHTcl',\n",
              " 'tVgSvqVbnqDdgQzMQMGMmzthCw',\n",
              " 'mpbPQlblbwSlfSPGBpBGPpBFgMMtLFSHMLVVDVdtHLNctF',\n",
              " 'WnhZsrJhTnWrgZdZgHNLcLtt',\n",
              " 'hjCsCWRhjzhTjnWnQBbmPQQPLBGfqjwQ',\n",
              " 'BFrzdtmRmpFtFwwmjjzNQllPshqHvjNh',\n",
              " 'fWCLLCMJnCDbgfMJhPsPHvqvqVsssQ',\n",
              " 'WbLnCZnvprpmZrGd',\n",
              " 'gjMzTGBjWFBCCSSrBC',\n",
              " 'bddJJndbdJfwPPthrrSSSsFSSg',\n",
              " 'NJHbZbbvvWGgjWgT',\n",
              " 'dpfphMggHdQcwftMMgdtzWGfGWnDBnmvnVJVvfmn',\n",
              " 'CqPFTZPSNCTsZZZRLzGmcGVzDLGvLWBWJm',\n",
              " 'TCrTNSScPlplpHrQrQ',\n",
              " 'lqrCvhWFvMGWgfHPgLfjfdgG',\n",
              " 'zjmbjSnzRzVVRmzBRtwjVQnNLfdPgfLdfTtNLPHTNNpppf',\n",
              " 'mbSZRzQRBnnzbQJbmjmSbmVhlslZMrclWFrrqWCWsFhchF',\n",
              " 'mpfNshshflNthWfJCBBdmnQbQBZQdn',\n",
              " 'VFVRccgGTqTrHTbWBFjJBCFFJCCQ',\n",
              " 'PvTDHqHqPPGVqqhwfNlWlDhMltlh',\n",
              " 'HmLLgWVjJwhwWLgjjhmVHLLLlSzBlBlSvBvBFGvtdStJSSvq',\n",
              " 'TRRrPMsfQTbRRCZRnTMRZZTCcvSccqBqBBlzdFvBqFsGBcts',\n",
              " 'bRNPbRCZMCrQNfPLdhVpLDVgDhNHWV',\n",
              " 'sPJFDsSsVLgHjLHPbj',\n",
              " 'vCnRQhhRQdVQZlZdbHNMlqNNjgjbpbBL',\n",
              " 'ChhCCCWTWnnmvmGtztStzScwrcVcFW',\n",
              " 'NRBTNDBglSSgDwCClQQSFFHdLLsFbPFFLt',\n",
              " 'McpmWccMWHZPcLstbt',\n",
              " 'MWnWphVMvvzJzpWJWmVphjrDDBBTRwRDDDRRCnPDnqgg',\n",
              " 'hsnnhhLljLPTmZwvdZdZjmmz',\n",
              " 'RQNNDpNMSZwvsmqstN',\n",
              " 'QFMFRDVDsHSpRpHSMRHfGGGTLhCChBGhBhBFBJ',\n",
              " 'TTbltCvClzvzCZtwtwLTtQQQgjNgmjgQRRRQSjQLjR',\n",
              " 'HPpnZHcJsdnnfsdVHHSSqghhmqBSSqSmBfNj',\n",
              " 'VMJJdnMPrMGVrzvCZwZWCzCt',\n",
              " 'CcQnBBCfBvRzDlsS',\n",
              " 'PdbPPCbhGGpDSDlDDhvDJl',\n",
              " 'HmHWPWdbHnCwCHCr',\n",
              " 'JHlmJcMWHQcPmlmJMmMZPfwTTRDfgdDBfRtgQgdfBw',\n",
              " 'zVvFrqGjzWGVrqvjvNFpspvVBgNNddtTgghhRTwgdDwwwBfT',\n",
              " 'bVFrrvsvjWGVsCsqpSHZmMPJlJnCcLcPZZ',\n",
              " 'QrrQZFZnRtnFRTrnlFTtRZwpGGwzGszhjzbsGzzhmjjhhmhf',\n",
              " 'SgvpDSJSgPBSDPDNgpggmsMhMmffsMmzfJmzHHMj',\n",
              " 'WNVcCPgSSDCddSdWCpNBclCQQFRQQlnTLFLRZQnLtt',\n",
              " 'tgvqWqzvntdlzNzzHrbPrMhHMhhrVrjPmC',\n",
              " 'FGTGGRGTffcJRpQcJJwmjhPLhjnCQPrLPVQrMr',\n",
              " 'SppRSDRwFnJJwwswTDdtzBzqWWzZDldNgtvl',\n",
              " 'sjzPjLphMSrlppSp',\n",
              " 'fbGqgwTqgVTFFcgGTTGcQvfHQZRlSrSlSmMNMBRNNNrZmm',\n",
              " 'MVcFGTFtqjsJLjjtCd',\n",
              " 'jVJqTRHjjtDjZnVJVVjnNdwfCFPZmPgCCgCZGCFFrrFg',\n",
              " 'LSLBMBWsbBBCgfdrFd',\n",
              " 'ShbbzdzQRNNNVhDN',\n",
              " 'JwbSRqmSwRwcpmbSSVfhNBTVGGRnNNzRNh',\n",
              " 'ZPfQPjZZrffQZszhzTnVGBvntsNz',\n",
              " 'rLjggjQgQgFdPQjLFQZgwLMbWccLSwWHqHfSqpwc',\n",
              " 'cBhzNpztzHNrpHSHQrhZjZqdJRRgPqjhjqqP',\n",
              " 'bQwsMTswwVjdZMVRJM',\n",
              " 'vGWCTDCTQvvtlvQQ',\n",
              " 'mHVmTTsmzRmRHffmmfMGBzSPMhSWWdDWDSGB',\n",
              " 'VNcnNbtqqJbcbvgvWhShDBDPhjgPhSjB',\n",
              " 'FrrbCnqJcbCJcFFbnqJlppCTfQmfmZQTLVswRLZp',\n",
              " 'rWWppSStfRBLfHPdHHDzlldZ',\n",
              " 'QrTnQmmVCqvrvJvzJZPHvzHsDs',\n",
              " 'qgMMmrTTCcnQQmCNQNQmgTpwRWRtwtpcBWwjSRSSpttW',\n",
              " 'SzWQwwqVbQzwGSfVwffVwbqhFGFFMgGLGMlNMcnNgcvlMg',\n",
              " 'ddZHHsrCdBssDsHmChFLNNnMvmNnnnFncL',\n",
              " 'rpJJdHZJdZHQSRJbSfVhww',\n",
              " 'jLtFhNwNNvHnjFVvQLQLHhfbGDMPfffpllpttZMPPZZb',\n",
              " 'VmrqszVmgCWWggbPGclPlZbcZCbf',\n",
              " 'JdrTmVTVsqsRJHvQnnhwhBLH',\n",
              " 'vpdBvsvdVvSPhvQFCgrRmhjqqRgWcWWgmf',\n",
              " 'tJDGbZHbjRHNrrBj',\n",
              " 'DnMnzGJJwtzVSzzBzTBSTF',\n",
              " 'hZMDbQhMhlMDJrDrPMJRRqGJSvFvSwFSVdvGvwSFqq',\n",
              " 'HjjzcRTnpGVSGGFWHH',\n",
              " 'pssmjctLzpsRRnhlQbPfPrgDbZls',\n",
              " 'FJMhPhnTMGmBFdnmlrfqfCcwlwCwCv',\n",
              " 'pjHLsLbjjRHsHsjDjVsgDRjzCnfCfzqrqvwgflcvcvvgqz',\n",
              " 'njtpHZnLLQGhTtTWSSSh',\n",
              " 'NMddMTDrrjNnrnMWMrlnPwNwftBtGvptGjBHgBgpfCCSfgvf',\n",
              " 'mqRqLFZRVFbtgBSCbGWWHp',\n",
              " 'LZZRmQhVLLFzZdTQPndPNTTnQW',\n",
              " 'CprQrcpqhHhpppchpphdcdpLMRMGsVGGsMsLbZbtbfMRmtbG',\n",
              " 'DzlgTjwPTlSSSCDSlggNmMRtbsstsMfbwtVssMmt',\n",
              " 'TNCNSBNJJTNPJjCTBDzjlJrvvcQrrhphWBqHhHdqrnrr',\n",
              " 'ScbcbglMPRSmvclTlzMTdhVHhhjfdsdhrVDzfjrD',\n",
              " 'LJGtpQwpQBBCttJLGqtqGHhPfDdHwjjhrVrhdrdshr',\n",
              " 'WCpZQCGqtqQWtQWplZPcvMmgmvPccbvT',\n",
              " 'tGWqthqGVdzBWwdd',\n",
              " 'BZvZHFFHZrHZvZNRRHHZNHrMMTzRMTdTzbgDVMVssTDTwg',\n",
              " 'JnNmrHHNrCGBPPnGGc',\n",
              " 'wvFvZBmppBdSLcvshcLrgl',\n",
              " 'bTQqJJHJzJjDQjQtzRVJztDHslgNNVLcgSrsSsWrSslWgrgL',\n",
              " 'TqHHjQnbHTbbmZBBcFMpmBwn',\n",
              " 'ZFCqSlCPdCRTLWWTQQLLQS',\n",
              " 'GjggHcvsggHVTVBLnlcpBQ',\n",
              " 'hvGhlrtjmjrHHhjsMPFNPdtqMPqqRfCf',\n",
              " 'cgRwVfVzrgqqwZctTztFMFMTCdPmmF',\n",
              " 'bWJsSJHpTDRDTWMC',\n",
              " 'sHHNbshnlJhJjBsjsbnBHbZcqrZZQwqvvZcrwwvRcZnr',\n",
              " 'ttgVBtMbttngmHJVpzlzZlppzw',\n",
              " 'cPcsRPmPPQfGcccRQSSZzzvzlflzZHvJppzJzT',\n",
              " 'sQPSCPPWccWWWqsQqRCQFNRMmnbnjjNbgDdBjhBrdbdDbd',\n",
              " 'gSsZDSgdQZgWSgddwLDLLfCDBqvlhBlClqtqjhvBhB',\n",
              " 'RMcsVMcsbVsrPrmJcPHHVvfjjCnvvfCqhlqvqqqq',\n",
              " 'NFMRRpHPgzszGppG',\n",
              " 'WmmZZNJCgCBZCzPvmBCmjWjjqFtFqjFjbVwqwjtt',\n",
              " 'ppDMpdMfSfSSNtlwqbqwwq',\n",
              " 'dTGDhdnfLMLhfDDpQvZNZgmrmrQJgrLQ',\n",
              " 'jrqRqfNNhrVvcTVdpTscpd',\n",
              " 'tGWBlLggWGddTspZZd',\n",
              " 'JJzWtQgQsDbBgDWsgbFrPrRJNMJMPqMNfHjH',\n",
              " 'GdvVbbWsWdvWGDvWZcbFBTBZCzCjwzrhPBJjzF',\n",
              " 'nQPfSHnglfpnMSngnMgJTprJCCwwrwCwpTpCFj',\n",
              " 'SQQHSttRqggmlVsNcvWdRvbWPN',\n",
              " 'WLNLCWLsSJgHFrSHrM',\n",
              " 'gDbzRTcmbzPPgPPdtBctfHfrMMQfGFJrhQnMfGJR',\n",
              " 'dmmzzqZdDqqTLLwjgZgNljws',\n",
              " 'TCqsDHssmDsDGVGlVcMccGDV',\n",
              " 'FLntWWnnFzFgzzbtbznLBtlfjGZmcfFGVNFGlVZcMNlN',\n",
              " 'PpbLLmpgbRzqpCHwChQqwh',\n",
              " 'lVBPVgflgBVVrVTTwgwBPmgflDQjnnGvqjGDDFjGlGnvqHHJ',\n",
              " 'ScCLzdCZdbLSbFdFqvDDdGMQGQ',\n",
              " 'bchNCLRWSbzCbNRzbWRmsrhQwVVwBhmQpPwpgV',\n",
              " 'GmfHCCPqWqHLWLCfRJpbrrbQphwZbZ',\n",
              " 'STVDQzNnzMzNdstMDzzNtZwFhrlwVJJrJlFFJRFwFR',\n",
              " 'DzSvzstnszMnjQcqggjPqQBcqq',\n",
              " 'BzNwLTqwTjrBrljWpBlrQpBpsCGGCtpssCMttDtHsttMDCHp',\n",
              " 'mnrJVmRhhvJVcHtsGHMCnZCPZM',\n",
              " 'bvSmVbRhbgmmSJflzNLrzqzfWfqBWr',\n",
              " 'qsZLqqFNhfrGnJFv',\n",
              " 'DVjVmWlcjVjdDTDlbbTDTzmrCnMmJGnHnmCHfJGfvnfM',\n",
              " 'lVRdDglTlTgVlVjbWWVzVjvNZqSBsLZNtqRsLBqLqQtL',\n",
              " 'ffRRfLVHZHfJHVJcMrMZZwwTzGBBzBTBjGTwrwdSCj',\n",
              " 'qmWbWQbqnbvWhbQPGnGNnpvwSzltpBldtSdzllptCSjTTt',\n",
              " 'vWsbnbWnNvQQQQvsRRLfJRRVGfDcfV',\n",
              " 'PpqrvswPvvvPsNqmDLDttCCcHHZVrCtW',\n",
              " 'hgSddBhghQMdbhbwhgSdQgCCctZcDtLntLttCVLtSLCc',\n",
              " 'dGzdQMFzQMdgGGlGJMzBgBwRqNNfmmTsvfRfJTpwjmpP',\n",
              " 'pcphpdrWDmTgHWMtRWqHRVVH',\n",
              " 'SbGcGGQnvNQGvsjBtVHBLjvqVPVB',\n",
              " 'lzbQCzbZllSzQslpCJpJJDggcggfDT',\n",
              " 'ffrTlhrVrfCsDVTsWzGBBZcBRBqRBWtGtZcq',\n",
              " 'QNFmFHrHNSSmSLJdJrNGZLbGjbcBjBGjqcbgjc',\n",
              " 'ddQvPnHddnQJHSHSFPdnFfDDTfDMMCrwMlPTwDCsrC',\n",
              " 'NBnrNHQHBscvhfBM',\n",
              " 'bbGtgWWWqZFmnZGZbmVCdMzvvShfzfGcdcfMSS',\n",
              " 'WqbjnmbnjWgmFFgtWVbWZwNTNLjNprNwQLDwrTrHQr',\n",
              " 'lwwlcjlzQRBcBccbdLCVnNVWJJzfLndd',\n",
              " 'pZDMtZpSDMZpMZMsPtHVNJVfRCRddVndnJLSJd',\n",
              " 'mDTZvTqtDDHttRPcqhQlwgGlghbqBh',\n",
              " 'DTspTqssqTbdmCMwVmnmlfCD',\n",
              " 'PLPWjjrSjvPzqZvjvRqjLtPwnnHCmWVcncMnnwmncHcHll',\n",
              " 'RFztFjjqjQFQTbdTbQ',\n",
              " 'hTFSVSdhMMVMFjjgbthcbzczcg',\n",
              " 'DvwCJVJWWJDRnfmbDmccfmmgfb',\n",
              " 'QrJvPGWWnpVMqdZsZpqM',\n",
              " 'gRLcHbgnfpgpJjlqqp',\n",
              " 'SFwrTHFBqlZtBPZq',\n",
              " 'HTzDwmSvCvCmsmmvTSwvFwcfRRNRLcQRWNssNNbRWLWL',\n",
              " 'PpMgDMDnsWSnjBQnrjbn',\n",
              " 'LFcVVGChCFdhdVFZVpVCdVbvQbRrbvBBbBjQSJZrrJrR',\n",
              " 'FNwGNCCFHcVTHcFdHHHTDzMzfsgzwpPWMmPflmtt']"
            ]
          },
          "metadata": {},
          "execution_count": 97
        }
      ]
    },
    {
      "cell_type": "code",
      "source": [
        "new_list"
      ],
      "metadata": {
        "colab": {
          "base_uri": "https://localhost:8080/"
        },
        "id": "0uB_Z1BRhH0G",
        "outputId": "83e3a21a-4738-4749-808d-aeb52a3c7db4"
      },
      "execution_count": 99,
      "outputs": [
        {
          "output_type": "execute_result",
          "data": {
            "text/plain": [
              "[['DsPhSBQQQhqmBDhPDsFwjwsLjlRjlttvjvvtRb',\n",
              "  'rNJMNNbrHrtjHLHjvwtg',\n",
              "  'fNbNzZdrZnMnMPnQShFPDmnqFm'],\n",
              " ['QWVCFfQffgQCVZzVVpHsHJBqtpspJFRHqq',\n",
              "  'mwDbmnnGNlNcwNDDNRbnNDlJTpBJBtJGtPTLsBGqTqqsqp',\n",
              "  'MlSdnScRnnmmDjSdNSdCzvggWzrgzjvfvrgVzW'],\n",
              " ['gsMljbrjlZlWcWMJrWwTwbmwQbmmLDQQLhwL',\n",
              "  'CdgpzdgpgnfThHfFRwhfRf',\n",
              "  'SptgpSpnCNpVSGNPvPGSddcMWjMrjqBsJcWqMcBWcVlZ'],\n",
              " ['JcJLQQFWhQJPJpWcwjHvMQvnnlMvzBHd',\n",
              "  'tCtGZrmVRmVGTVTtCfRTCHHNNvdNzmdMvMlNzvwdvw',\n",
              "  'CTGGRftfSGtGTGDLbFchSgSWWWcM'],\n",
              " ['QcMFQrvrQbvtczbVbjbMzZzRpqmDDmqqnNzCDCDC',\n",
              "  'SHHfPJssGLPSdHThLhHdRmqNmNssnNmNCNnpjmsn',\n",
              "  'LhLJfTdLJwfgPTdfGccrtjcMrccwvcrrFr'],\n",
              " ['jFLLLqDGjbtqLCChpMMhMBvpwMTmffpZ',\n",
              "  'ZnJHRncHHgnrsrZffTdMdMBfmMvfvR',\n",
              "  'NWWPnZrVHrZPCDDQtzDCPLCq'],\n",
              " ['jpFjvBZhDFHZdwcmslcslBLLNl',\n",
              "  'dVtTVVCzzfrrMPNLLcnVcPLRns',\n",
              "  'CrzWzTqdWtGCzJtbJCrMjjDFHZQjZSpvFGFgHhHp'],\n",
              " ['JjJqMctnhtDZDQtf',\n",
              "  'TrFFlrrCCHPwHwlPHFPzDhsffQQDsVfWwVJQJB',\n",
              "  'HHHGdFlHldTpCCFFlLHdCRJccMnqvqMgnNjjMjjvLMLcSv'],\n",
              " ['cMfFcMFcrqgJLFZdrTDdthPGsGmtGs',\n",
              "  'WwjNwnjjBQzVVQHwRDnmtPGhPPsPnnTGld',\n",
              "  'bWHBjWVzpbRzbmScqgZMFcqf'],\n",
              " ['RJjPTBJhTNNjfPhRBdqtlgdbGldwtCPgdb',\n",
              "  'ZmrHHmzpvSvvpzvmvDVCGlWVwCWtGtWCddggqf',\n",
              "  'QQpzFrHHQnzHvfTcNshcLRNFJhcR'],\n",
              " ['QrPQDrppBQmCmFQm',\n",
              "  'TzqzsLfmsfSTfqzVLftNdJJNJGCwwGdgCwSGNC',\n",
              "  'TVHTfzWsfftsZstnbvrbWbrbppPbrmmP'],\n",
              " ['BQrfqrLtJnttqqtQBJDDtBnDzRgldhVVpJlgzpzhpzsgslhV',\n",
              "  'TTNcPZCvZjmPFZjvPHLlWdNLghVhzzlllpVd',\n",
              "  'jcFPbTcZTFcmcjMjjFjbLwbnDBtfqbtBwfwSBnrbGw'],\n",
              " ['SZJNJtrNzjjNCzlBBmqmQDBBmDBBjB',\n",
              "  'PGPbGwhLsnvwnVbGPVMZsDsTBBgcZgBBDBfDBf',\n",
              "  'pnnhhvphGVpvRPnJlSFRNNJHZHSdSR'],\n",
              " ['hbmDDmwnnVGbhmjNrrWwLNLsWBrw',\n",
              "  'dMrgvcQqdjlBLlfW',\n",
              "  'HzzPSrcHqFHQgzpPcMpQqrtmbbbRhHHVGnZDnVHhVbVZ'],\n",
              " ['RwtvdPRvSlTQmHHBQBRL',\n",
              "  'FjVSjrsFVnFQnTHmnT',\n",
              "  'VCVVMrWWjVGgbcNVGCCVdlvfdqfvwbSzwqfwZzwv'],\n",
              " ['fmPDwJPDFRmRgPdwwwDNwgwPzhSQzVSzVTQdzHZzHhzQMQzQ',\n",
              "  'sWtGCWtpcqqpNnQjjzhVTTVQczhj',\n",
              "  'tWBGntsCNlqrWswDRfFrbFrPDbPf'],\n",
              " ['dmzmjcbQjjQztFNqsqBcMJqNPF',\n",
              "  'nlTWnClWwQDTVnTrsMsCRBPZRJRJqRJq',\n",
              "  'wTrhwpVVvgvlDpTvVWVDdLfzgbLtbzSQLSzzjzLz'],\n",
              " ['RWZdHvRdBRGbbvCjJnbn',\n",
              "  'pqqpSwzpSSbCwPwjlwjl',\n",
              "  'gDzzqSVzqrThpDBtRtCZdQRQLrQQ'],\n",
              " ['GRqTGqtmTVdGHHVVNNlhPlMqbNqNDbqW',\n",
              "  'LzQSdFnfznfwBcLcnFppBBDDMPMPhDbhlwbWPlbWMjrD',\n",
              "  'QznFnLZFvVvHRgsddG'],\n",
              " ['BBHBfBHFdSltmWJvqtNtHq',\n",
              "  'TQDrrVMzVDnWnNZDJc',\n",
              "  'gWzprTCrCMQzGGjjhwFwdffjfl'],\n",
              " ['LLLSSSzBBlBLsszncCBZSPSMMMpdWTdrmmnfVGVmMfmrmm',\n",
              "  'DghttvwhHRvjJthNJwhVtDHGpddMWdMmrMmfGdppjWTfpq',\n",
              "  'gbJRthQDDRvwtDhQhDFPcVcbPczLzPBScBBF'],\n",
              " ['sZsZpTtLCsbspZtTwrCwrwtDmNNdJmmqSJfqmfNGNmHqGdqb',\n",
              "  'nQvjTcjQglFVlllMFMVFqWfNqnNHHHdfSfHqfSJq',\n",
              "  'hFvvgFcFVzphpTrrwZDp'],\n",
              " ['qJqfhsBpfSpchpqcrqwCDvvCDQndmpwDtnRQ',\n",
              "  'jWHPZWWjZsCmCWRDmQ',\n",
              "  'PPzMGHlzMNsPLPlZsllgsNrhNVBqhFVBbBSqFFBFrV'],\n",
              " ['RnRsFFdSzmgwvQsqwc',\n",
              "  'lbgHGMBHlWWWlfWGGBtGwqDpDwmcpMrrqrQDZrMZ',\n",
              "  'GGJLBVJbVGjGtHVfJtWGHBLLPdzdCghnRnRnSShgNnhnddhj'],\n",
              " ['VgzLFjjwhhSwFhVZgRhRgHHCCvdZdrqqCTvBCrqvvr',\n",
              "  'ncnNbGMcPpvHFrssdBHM',\n",
              "  'cnctcNNbQGWFJctftgVmzShzzwwVwgmwfR'],\n",
              " ['pFWmSSFGQlvTbwWTwH',\n",
              "  'jdBgNhRgMftNBhPbhHnZHlTTZcwZ',\n",
              "  'lfBNRjCtCfMjsBfCjgfNBRMppGpJqsJQGrrmmJDpGmDDFG'],\n",
              " ['GznngnhzccVdgjbbVjVjVbVLwwQJmQMrLTZhJmZLQTJWmm',\n",
              "  'pDBSslPCFPCpvCqvpPBQTlQLrdlJWrLJLmrlrr',\n",
              "  'psSsBptpCBdjtcjNVcGG'],\n",
              " ['sssppsmchwspFLtvHhQJMtFb',\n",
              "  'rRLDqRVLNSMvFSSV',\n",
              "  'WDrLnzrDqzRqRzzfLgRnzrnsssZZZsZBgCwwmBppwBspZc'],\n",
              " ['MtPbwvzzVtzfsqGGVpdSjsLd',\n",
              "  'DnNRCDJBnHJDHDnrDTRcnNZpZSsSLqjpdqqqSMqdddTj',\n",
              "  'CFRFRFHgDRnRgMtfFvvwzwvwvzWv'],\n",
              " ['PNpFPncvvchPpNjpFhvPhPLmBwMgDRRwRgMDhBmLzBDD',\n",
              "  'trHSrdTtslWrSWmfzgmMnfBzmn',\n",
              "  'JsrQsJHHlsVqTjjpbbNnQNNpGG'],\n",
              " ['sVQCdsmGlnlCmnGmQQhGCJJNvNjpgqhqhvPgpgPqjpcpcW',\n",
              "  'DMSfSbHLHbSDBBzLNvccWRcddvPjNj',\n",
              "  'FSwHfTFdFsmJlnTTmV'],\n",
              " ['FctwtTTCScvShFqtwScrcTSCJQGNndGHWJNQHWHZdgJrJgGN',\n",
              "  'jspLlfPlpfsDjBspfllWgdWHQggZHngHNGdsWJ',\n",
              "  'lRMpBlPmSFRTcvZv'],\n",
              " ['TVZpRRVvFRVpTZRfFhFvvzGVwrwwwdDBMwQrgcDtMtDDwZrL',\n",
              "  'jsNsWqWjNQCNWbjPMcBLPgBtrdMwdrdL',\n",
              "  'SJSsmqlSNljbmlNjsbQVffzGRvzmmVhQpVGz'],\n",
              " ['BFFMvcwMwwpFFfpbDMqPVgLVgmLDPR',\n",
              "  'JtSsSzJssQJJWjRZzgLnDgqLPZgzbg',\n",
              "  'dsdtWQWdRGjTRNQNQvGfHCCFpvfGwlCfCp'],\n",
              " ['zzWGqWnqnwWCvCrHffHRpBpBBRSJzRFFDhSQFR',\n",
              "  'VPVsZMNTLsMvPsmBJhllFpFBTJFQpl',\n",
              "  'sZtsNsZtdZgjbwggjnbvqr'],\n",
              " ['QpTvrphmDvvddfcJJHTTncMlMG',\n",
              "  'bRZZPRwjgzzlSSjGlnlSJS',\n",
              "  'BZzBzssWgwzzwNBsgsPBgszmQptqrrGdvdWmqdhhFQDpQF'],\n",
              " ['FfMtzSqlDlzfMhPFhPtffNRsCgSgCCGspRpRGSsgsg',\n",
              "  'WTcWLTTVnWmrVdLrcHmNGNCZwCCggpgDRwpCnR',\n",
              "  'JcdWJHTJWdJdjJccrLvlFltFQQvPFDMjqqlP'],\n",
              " ['NfjFNNZPDQVJVWpCbQpJ',\n",
              "  'lcmdzlmzBtRSTlTTcncsVSbhpLWpWgsWghgsVS',\n",
              "  'mBTRRmGccRtBwDbrGPbrMMrF'],\n",
              " ['VVQqlsGrVsMWBNFNMQHF',\n",
              "  'TfzZfDgjgnLGjjztTncCFwwNmdvNcwwNBvHNFwvd',\n",
              "  'jzjDgZzjntGJZzCnhrrSlPVsJslpslPq'],\n",
              " ['dVhpjGPdjHhqHgtHJJ',\n",
              "  'sFzrzllQswDwFbcmBlgvZTCgvqTCfgHQJtqT',\n",
              "  'nDbBsFzzrrtFrlwzPdSVMWMVVMSnGNLd'],\n",
              " ['wqJCjqChmwMLmMmprNgG',\n",
              "  'DNTtdsdWcHdNspGQggnrgLnQpc',\n",
              "  'SZvFftdddDsDTtttTDJNCCwJJZzbbCjwwVPj'],\n",
              " ['VstwZCwslBZQDBjfDDBDfS',\n",
              "  'rvHnmMRrTzmMrmhRppbhDfpjfbjbctjD',\n",
              "  'rPFLRLmFvvLvHvTCtqsVVwldGZGPGV'],\n",
              " ['SNZDJGfvwgMgfgmLmLcmBqgWgQWr',\n",
              "  'hPnPTnVGsPRqLWpTmQqQ',\n",
              "  'tsbnFhhjhSdGJNCjSf'],\n",
              " ['QSbGgBjfTCMWFNPFFtDghPrP',\n",
              "  'JqHqJVzZzwJJHLlqQptDhPrctpPDtnLF',\n",
              "  'zZmwJwdwdvHddVJvZqdzHlfGBbsCmMTsWCBCjsGGBbMQ'],\n",
              " ['gVmLtpWrFTFBLtpcFNbvhNNnTnvnQRlQQv',\n",
              "  'GHjjqsMqwZZJdqGfZjfZGjQDDhvQNzznzRzRwDNbvgzv',\n",
              "  'sZGPgssMqHZpPptmCcpCrP'],\n",
              " ['CZCNNLmwzwCGMZQMQsFNWplvpsJBWpFHBp',\n",
              "  'SPbSbDRRbnDqggnbVbVrbRWHJFTlBBcTvWvsPvFpHTcl',\n",
              "  'tVgSvqVbnqDdgQzMQMGMmzthCw'],\n",
              " ['mpbPQlblbwSlfSPGBpBGPpBFgMMtLFSHMLVVDVdtHLNctF',\n",
              "  'WnhZsrJhTnWrgZdZgHNLcLtt',\n",
              "  'hjCsCWRhjzhTjnWnQBbmPQQPLBGfqjwQ'],\n",
              " ['BFrzdtmRmpFtFwwmjjzNQllPshqHvjNh',\n",
              "  'fWCLLCMJnCDbgfMJhPsPHvqvqVsssQ',\n",
              "  'WbLnCZnvprpmZrGd'],\n",
              " ['gjMzTGBjWFBCCSSrBC', 'bddJJndbdJfwPPthrrSSSsFSSg', 'NJHbZbbvvWGgjWgT'],\n",
              " ['dpfphMggHdQcwftMMgdtzWGfGWnDBnmvnVJVvfmn',\n",
              "  'CqPFTZPSNCTsZZZRLzGmcGVzDLGvLWBWJm',\n",
              "  'TCrTNSScPlplpHrQrQ'],\n",
              " ['lqrCvhWFvMGWgfHPgLfjfdgG',\n",
              "  'zjmbjSnzRzVVRmzBRtwjVQnNLfdPgfLdfTtNLPHTNNpppf',\n",
              "  'mbSZRzQRBnnzbQJbmjmSbmVhlslZMrclWFrrqWCWsFhchF'],\n",
              " ['mpfNshshflNthWfJCBBdmnQbQBZQdn',\n",
              "  'VFVRccgGTqTrHTbWBFjJBCFFJCCQ',\n",
              "  'PvTDHqHqPPGVqqhwfNlWlDhMltlh'],\n",
              " ['HmLLgWVjJwhwWLgjjhmVHLLLlSzBlBlSvBvBFGvtdStJSSvq',\n",
              "  'TRRrPMsfQTbRRCZRnTMRZZTCcvSccqBqBBlzdFvBqFsGBcts',\n",
              "  'bRNPbRCZMCrQNfPLdhVpLDVgDhNHWV'],\n",
              " ['sPJFDsSsVLgHjLHPbj',\n",
              "  'vCnRQhhRQdVQZlZdbHNMlqNNjgjbpbBL',\n",
              "  'ChhCCCWTWnnmvmGtztStzScwrcVcFW'],\n",
              " ['NRBTNDBglSSgDwCClQQSFFHdLLsFbPFFLt',\n",
              "  'McpmWccMWHZPcLstbt',\n",
              "  'MWnWphVMvvzJzpWJWmVphjrDDBBTRwRDDDRRCnPDnqgg'],\n",
              " ['hsnnhhLljLPTmZwvdZdZjmmz',\n",
              "  'RQNNDpNMSZwvsmqstN',\n",
              "  'QFMFRDVDsHSpRpHSMRHfGGGTLhCChBGhBhBFBJ'],\n",
              " ['TTbltCvClzvzCZtwtwLTtQQQgjNgmjgQRRRQSjQLjR',\n",
              "  'HPpnZHcJsdnnfsdVHHSSqghhmqBSSqSmBfNj',\n",
              "  'VMJJdnMPrMGVrzvCZwZWCzCt'],\n",
              " ['CcQnBBCfBvRzDlsS', 'PdbPPCbhGGpDSDlDDhvDJl', 'HmHWPWdbHnCwCHCr'],\n",
              " ['JHlmJcMWHQcPmlmJMmMZPfwTTRDfgdDBfRtgQgdfBw',\n",
              "  'zVvFrqGjzWGVrqvjvNFpspvVBgNNddtTgghhRTwgdDwwwBfT',\n",
              "  'bVFrrvsvjWGVsCsqpSHZmMPJlJnCcLcPZZ'],\n",
              " ['QrrQZFZnRtnFRTrnlFTtRZwpGGwzGszhjzbsGzzhmjjhhmhf',\n",
              "  'SgvpDSJSgPBSDPDNgpggmsMhMmffsMmzfJmzHHMj',\n",
              "  'WNVcCPgSSDCddSdWCpNBclCQQFRQQlnTLFLRZQnLtt'],\n",
              " ['tgvqWqzvntdlzNzzHrbPrMhHMhhrVrjPmC',\n",
              "  'FGTGGRGTffcJRpQcJJwmjhPLhjnCQPrLPVQrMr',\n",
              "  'SppRSDRwFnJJwwswTDdtzBzqWWzZDldNgtvl'],\n",
              " ['sjzPjLphMSrlppSp',\n",
              "  'fbGqgwTqgVTFFcgGTTGcQvfHQZRlSrSlSmMNMBRNNNrZmm',\n",
              "  'MVcFGTFtqjsJLjjtCd'],\n",
              " ['jVJqTRHjjtDjZnVJVVjnNdwfCFPZmPgCCgCZGCFFrrFg',\n",
              "  'LSLBMBWsbBBCgfdrFd',\n",
              "  'ShbbzdzQRNNNVhDN'],\n",
              " ['JwbSRqmSwRwcpmbSSVfhNBTVGGRnNNzRNh',\n",
              "  'ZPfQPjZZrffQZszhzTnVGBvntsNz',\n",
              "  'rLjggjQgQgFdPQjLFQZgwLMbWccLSwWHqHfSqpwc'],\n",
              " ['cBhzNpztzHNrpHSHQrhZjZqdJRRgPqjhjqqP',\n",
              "  'bQwsMTswwVjdZMVRJM',\n",
              "  'vGWCTDCTQvvtlvQQ'],\n",
              " ['mHVmTTsmzRmRHffmmfMGBzSPMhSWWdDWDSGB',\n",
              "  'VNcnNbtqqJbcbvgvWhShDBDPhjgPhSjB',\n",
              "  'FrrbCnqJcbCJcFFbnqJlppCTfQmfmZQTLVswRLZp'],\n",
              " ['rWWppSStfRBLfHPdHHDzlldZ',\n",
              "  'QrTnQmmVCqvrvJvzJZPHvzHsDs',\n",
              "  'qgMMmrTTCcnQQmCNQNQmgTpwRWRtwtpcBWwjSRSSpttW'],\n",
              " ['SzWQwwqVbQzwGSfVwffVwbqhFGFFMgGLGMlNMcnNgcvlMg',\n",
              "  'ddZHHsrCdBssDsHmChFLNNnMvmNnnnFncL',\n",
              "  'rpJJdHZJdZHQSRJbSfVhww'],\n",
              " ['jLtFhNwNNvHnjFVvQLQLHhfbGDMPfffpllpttZMPPZZb',\n",
              "  'VmrqszVmgCWWggbPGclPlZbcZCbf',\n",
              "  'JdrTmVTVsqsRJHvQnnhwhBLH'],\n",
              " ['vpdBvsvdVvSPhvQFCgrRmhjqqRgWcWWgmf',\n",
              "  'tJDGbZHbjRHNrrBj',\n",
              "  'DnMnzGJJwtzVSzzBzTBSTF'],\n",
              " ['hZMDbQhMhlMDJrDrPMJRRqGJSvFvSwFSVdvGvwSFqq',\n",
              "  'HjjzcRTnpGVSGGFWHH',\n",
              "  'pssmjctLzpsRRnhlQbPfPrgDbZls'],\n",
              " ['FJMhPhnTMGmBFdnmlrfqfCcwlwCwCv',\n",
              "  'pjHLsLbjjRHsHsjDjVsgDRjzCnfCfzqrqvwgflcvcvvgqz',\n",
              "  'njtpHZnLLQGhTtTWSSSh'],\n",
              " ['NMddMTDrrjNnrnMWMrlnPwNwftBtGvptGjBHgBgpfCCSfgvf',\n",
              "  'mqRqLFZRVFbtgBSCbGWWHp',\n",
              "  'LZZRmQhVLLFzZdTQPndPNTTnQW'],\n",
              " ['CprQrcpqhHhpppchpphdcdpLMRMGsVGGsMsLbZbtbfMRmtbG',\n",
              "  'DzlgTjwPTlSSSCDSlggNmMRtbsstsMfbwtVssMmt',\n",
              "  'TNCNSBNJJTNPJjCTBDzjlJrvvcQrrhphWBqHhHdqrnrr'],\n",
              " ['ScbcbglMPRSmvclTlzMTdhVHhhjfdsdhrVDzfjrD',\n",
              "  'LJGtpQwpQBBCttJLGqtqGHhPfDdHwjjhrVrhdrdshr',\n",
              "  'WCpZQCGqtqQWtQWplZPcvMmgmvPccbvT'],\n",
              " ['tGWqthqGVdzBWwdd',\n",
              "  'BZvZHFFHZrHZvZNRRHHZNHrMMTzRMTdTzbgDVMVssTDTwg',\n",
              "  'JnNmrHHNrCGBPPnGGc'],\n",
              " ['wvFvZBmppBdSLcvshcLrgl',\n",
              "  'bTQqJJHJzJjDQjQtzRVJztDHslgNNVLcgSrsSsWrSslWgrgL',\n",
              "  'TqHHjQnbHTbbmZBBcFMpmBwn'],\n",
              " ['ZFCqSlCPdCRTLWWTQQLLQS',\n",
              "  'GjggHcvsggHVTVBLnlcpBQ',\n",
              "  'hvGhlrtjmjrHHhjsMPFNPdtqMPqqRfCf'],\n",
              " ['cgRwVfVzrgqqwZctTztFMFMTCdPmmF',\n",
              "  'bWJsSJHpTDRDTWMC',\n",
              "  'sHHNbshnlJhJjBsjsbnBHbZcqrZZQwqvvZcrwwvRcZnr'],\n",
              " ['ttgVBtMbttngmHJVpzlzZlppzw',\n",
              "  'cPcsRPmPPQfGcccRQSSZzzvzlflzZHvJppzJzT',\n",
              "  'sQPSCPPWccWWWqsQqRCQFNRMmnbnjjNbgDdBjhBrdbdDbd'],\n",
              " ['gSsZDSgdQZgWSgddwLDLLfCDBqvlhBlClqtqjhvBhB',\n",
              "  'RMcsVMcsbVsrPrmJcPHHVvfjjCnvvfCqhlqvqqqq',\n",
              "  'NFMRRpHPgzszGppG'],\n",
              " ['WmmZZNJCgCBZCzPvmBCmjWjjqFtFqjFjbVwqwjtt',\n",
              "  'ppDMpdMfSfSSNtlwqbqwwq',\n",
              "  'dTGDhdnfLMLhfDDpQvZNZgmrmrQJgrLQ'],\n",
              " ['jrqRqfNNhrVvcTVdpTscpd',\n",
              "  'tGWBlLggWGddTspZZd',\n",
              "  'JJzWtQgQsDbBgDWsgbFrPrRJNMJMPqMNfHjH'],\n",
              " ['GdvVbbWsWdvWGDvWZcbFBTBZCzCjwzrhPBJjzF',\n",
              "  'nQPfSHnglfpnMSngnMgJTprJCCwwrwCwpTpCFj',\n",
              "  'SQQHSttRqggmlVsNcvWdRvbWPN'],\n",
              " ['WLNLCWLsSJgHFrSHrM',\n",
              "  'gDbzRTcmbzPPgPPdtBctfHfrMMQfGFJrhQnMfGJR',\n",
              "  'dmmzzqZdDqqTLLwjgZgNljws'],\n",
              " ['TCqsDHssmDsDGVGlVcMccGDV',\n",
              "  'FLntWWnnFzFgzzbtbznLBtlfjGZmcfFGVNFGlVZcMNlN',\n",
              "  'PpbLLmpgbRzqpCHwChQqwh'],\n",
              " ['lVBPVgflgBVVrVTTwgwBPmgflDQjnnGvqjGDDFjGlGnvqHHJ',\n",
              "  'ScCLzdCZdbLSbFdFqvDDdGMQGQ',\n",
              "  'bchNCLRWSbzCbNRzbWRmsrhQwVVwBhmQpPwpgV'],\n",
              " ['GmfHCCPqWqHLWLCfRJpbrrbQphwZbZ',\n",
              "  'STVDQzNnzMzNdstMDzzNtZwFhrlwVJJrJlFFJRFwFR',\n",
              "  'DzSvzstnszMnjQcqggjPqQBcqq'],\n",
              " ['BzNwLTqwTjrBrljWpBlrQpBpsCGGCtpssCMttDtHsttMDCHp',\n",
              "  'mnrJVmRhhvJVcHtsGHMCnZCPZM',\n",
              "  'bvSmVbRhbgmmSJflzNLrzqzfWfqBWr'],\n",
              " ['qsZLqqFNhfrGnJFv',\n",
              "  'DVjVmWlcjVjdDTDlbbTDTzmrCnMmJGnHnmCHfJGfvnfM',\n",
              "  'lVRdDglTlTgVlVjbWWVzVjvNZqSBsLZNtqRsLBqLqQtL'],\n",
              " ['ffRRfLVHZHfJHVJcMrMZZwwTzGBBzBTBjGTwrwdSCj',\n",
              "  'qmWbWQbqnbvWhbQPGnGNnpvwSzltpBldtSdzllptCSjTTt',\n",
              "  'vWsbnbWnNvQQQQvsRRLfJRRVGfDcfV'],\n",
              " ['PpqrvswPvvvPsNqmDLDttCCcHHZVrCtW',\n",
              "  'hgSddBhghQMdbhbwhgSdQgCCctZcDtLntLttCVLtSLCc',\n",
              "  'dGzdQMFzQMdgGGlGJMzBgBwRqNNfmmTsvfRfJTpwjmpP'],\n",
              " ['pcphpdrWDmTgHWMtRWqHRVVH',\n",
              "  'SbGcGGQnvNQGvsjBtVHBLjvqVPVB',\n",
              "  'lzbQCzbZllSzQslpCJpJJDggcggfDT'],\n",
              " ['ffrTlhrVrfCsDVTsWzGBBZcBRBqRBWtGtZcq',\n",
              "  'QNFmFHrHNSSmSLJdJrNGZLbGjbcBjBGjqcbgjc',\n",
              "  'ddQvPnHddnQJHSHSFPdnFfDDTfDMMCrwMlPTwDCsrC'],\n",
              " ['NBnrNHQHBscvhfBM',\n",
              "  'bbGtgWWWqZFmnZGZbmVCdMzvvShfzfGcdcfMSS',\n",
              "  'WqbjnmbnjWgmFFgtWVbWZwNTNLjNprNwQLDwrTrHQr'],\n",
              " ['lwwlcjlzQRBcBccbdLCVnNVWJJzfLndd',\n",
              "  'pZDMtZpSDMZpMZMsPtHVNJVfRCRddVndnJLSJd',\n",
              "  'mDTZvTqtDDHttRPcqhQlwgGlghbqBh'],\n",
              " ['DTspTqssqTbdmCMwVmnmlfCD',\n",
              "  'PLPWjjrSjvPzqZvjvRqjLtPwnnHCmWVcncMnnwmncHcHll',\n",
              "  'RFztFjjqjQFQTbdTbQ'],\n",
              " ['hTFSVSdhMMVMFjjgbthcbzczcg',\n",
              "  'DvwCJVJWWJDRnfmbDmccfmmgfb',\n",
              "  'QrJvPGWWnpVMqdZsZpqM'],\n",
              " ['gRLcHbgnfpgpJjlqqp',\n",
              "  'SFwrTHFBqlZtBPZq',\n",
              "  'HTzDwmSvCvCmsmmvTSwvFwcfRRNRLcQRWNssNNbRWLWL'],\n",
              " ['PpMgDMDnsWSnjBQnrjbn',\n",
              "  'LFcVVGChCFdhdVFZVpVCdVbvQbRrbvBBbBjQSJZrrJrR',\n",
              "  'FNwGNCCFHcVTHcFdHHHTDzMzfsgzwpPWMmPflmtt']]"
            ]
          },
          "metadata": {},
          "execution_count": 99
        }
      ]
    },
    {
      "cell_type": "code",
      "source": [
        "len(new_list)"
      ],
      "metadata": {
        "colab": {
          "base_uri": "https://localhost:8080/"
        },
        "id": "Kb7XlzCUXmFJ",
        "outputId": "075208f5-b8e2-42c7-fddf-f4b38b230f2e"
      },
      "execution_count": 98,
      "outputs": [
        {
          "output_type": "execute_result",
          "data": {
            "text/plain": [
              "100"
            ]
          },
          "metadata": {},
          "execution_count": 98
        }
      ]
    },
    {
      "cell_type": "code",
      "source": [
        "a,b,c = ['jpFjvBZhDFHZdwcmslcslBLLNl',\n",
        "  'dVtTVVCzzfrrMPNLLcnVcPLRns',\n",
        "  'CrzWzTqdWtGCzJtbJCrMjjDFHZQjZSpvFGFgHhHp']"
      ],
      "metadata": {
        "id": "e8ZO3tuZbppA"
      },
      "execution_count": 52,
      "outputs": []
    },
    {
      "cell_type": "code",
      "source": [
        "b"
      ],
      "metadata": {
        "colab": {
          "base_uri": "https://localhost:8080/",
          "height": 35
        },
        "id": "vEepVD-vbzz8",
        "outputId": "63d7728a-10f6-4588-e498-8ccc67065999"
      },
      "execution_count": 54,
      "outputs": [
        {
          "output_type": "execute_result",
          "data": {
            "text/plain": [
              "'dVtTVVCzzfrrMPNLLcnVcPLRns'"
            ],
            "application/vnd.google.colaboratory.intrinsic+json": {
              "type": "string"
            }
          },
          "metadata": {},
          "execution_count": 54
        }
      ]
    },
    {
      "cell_type": "code",
      "source": [
        "def find_badge(row):\n",
        "  \"\"\"\n",
        "  Function that finds the badge of each group\n",
        "  \"\"\"\n",
        "  #Assign the inventory for each elf\n",
        "  elf1,elf2,elf3 = row\n",
        "\n",
        "  s_1 = set(elf1)\n",
        "  s_2 = set(elf2)\n",
        "  s_3 = set(elf3)\n",
        "\n",
        "  #Find the badge\n",
        "  intersection = s_1.intersection(s_2,s_3)\n",
        "\n",
        "  if intersection == set():\n",
        "    #no badge??\n",
        "    raise ValueError\n",
        "\n",
        "  badge = next(iter(intersection))\n",
        "\n",
        "  return badge,letters_dict[badge]\n",
        "\n"
      ],
      "metadata": {
        "id": "yjf5B0UrXpXk"
      },
      "execution_count": 100,
      "outputs": []
    },
    {
      "cell_type": "code",
      "source": [
        "len(new_list)"
      ],
      "metadata": {
        "colab": {
          "base_uri": "https://localhost:8080/"
        },
        "id": "kxJ_oveDdP_-",
        "outputId": "3d50acf7-fab1-468e-9ba7-e1b629d60cc8"
      },
      "execution_count": 83,
      "outputs": [
        {
          "output_type": "execute_result",
          "data": {
            "text/plain": [
              "100"
            ]
          },
          "metadata": {},
          "execution_count": 83
        }
      ]
    },
    {
      "cell_type": "code",
      "source": [
        "#main loop\n",
        "total_priority = 0\n",
        "for row in new_list:\n",
        "  priority = 0\n",
        "  #Find the badge\n",
        "  _,priority = find_badge(row)\n",
        "  total_priority += priority"
      ],
      "metadata": {
        "id": "NYwfH29McT_X"
      },
      "execution_count": 101,
      "outputs": []
    },
    {
      "cell_type": "code",
      "source": [
        "for char in \"rNJMNNbrHrtjHLHjvwtg\":\n",
        "  if char in \"fNbNzZdrZnMnMPnQShFPDmnqFm\" and char in \"QWVCFfQffgQCVZzVVpHsHJBqtpspJFRHq\":\n",
        "    print(f\"{char},found!\")"
      ],
      "metadata": {
        "id": "F9VkvyZifTjK"
      },
      "execution_count": 80,
      "outputs": []
    },
    {
      "cell_type": "code",
      "source": [
        "{'w', 'N', 'v', 'J', 'M', 't', 'g', 'b', 'H', 'r', 'j', 'L'}.intersection({'Z', 'N', 'F', 'Q', 'd', 'M', 'P', 'S', 'q', 'b', 'n', 'm', 'h', 'D', 'z', 'r', 'f'},{'R', 'C', 'Z', 'B', 's', 'F', 'Q', 'V', 'J', 't', 'q', 'g', 'H', 'z', 'p', 'f', 'W'})"
      ],
      "metadata": {
        "colab": {
          "base_uri": "https://localhost:8080/"
        },
        "id": "cKj_ksYPemnh",
        "outputId": "b010640b-6138-4daa-9489-20337f30c672"
      },
      "execution_count": 75,
      "outputs": [
        {
          "output_type": "execute_result",
          "data": {
            "text/plain": [
              "set()"
            ]
          },
          "metadata": {},
          "execution_count": 75
        }
      ]
    },
    {
      "cell_type": "code",
      "source": [
        "total_priority"
      ],
      "metadata": {
        "colab": {
          "base_uri": "https://localhost:8080/"
        },
        "id": "WHVA-lp1cdDQ",
        "outputId": "88930e7d-cb8c-4fbd-9051-5a38c5c16b42"
      },
      "execution_count": 102,
      "outputs": [
        {
          "output_type": "execute_result",
          "data": {
            "text/plain": [
              "2689"
            ]
          },
          "metadata": {},
          "execution_count": 102
        }
      ]
    },
    {
      "cell_type": "code",
      "source": [],
      "metadata": {
        "id": "s1DnLcnzdJPC"
      },
      "execution_count": null,
      "outputs": []
    }
  ]
}